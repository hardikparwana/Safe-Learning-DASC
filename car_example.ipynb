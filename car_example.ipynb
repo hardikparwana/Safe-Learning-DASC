{
 "cells": [
  {
   "cell_type": "code",
   "execution_count": 7,
   "id": "6729eb8c",
   "metadata": {},
   "outputs": [],
   "source": [
    "import cvxpy as cp\n",
    "import numpy as np\n",
    "import matplotlib.pyplot as plt\n",
    "from matplotlib.animation import FFMpegWriter\n",
    "\n",
    "u = cp.Variable(1)\n",
    "a = cp.Parameter(value=0.7)\n",
    "b = cp.Parameter(value=0.1)\n",
    "\n",
    "# x >= 0 + t = u\n",
    "# x <= 1 + 0.3*t only valid till t = 1/0.7. But for some time horizon, it should be possible to keep the constraints\n",
    "\n",
    "def xdot(x,u):\n",
    "    return u\n",
    "\n",
    "\n",
    "def simulate_simple(x0,av,bv,c,movie_name=None):\n",
    "    t = 0\n",
    "    dt = 0.01\n",
    "    N = int(1.0/(1.0-c)*100)\n",
    "    x = x0\n",
    "    \n",
    "    a.value = av\n",
    "    b.value = bv\n",
    "    \n",
    "    xs = [x]\n",
    "    ts = [0]\n",
    "\n",
    "    if movie_name==None:\n",
    "        movie_name = 'temp.mp4'\n",
    "   \n",
    "    fig = plt.figure(figsize=(2, 0.5))\n",
    "    ax = plt.axes(xlim=(-0.5,2),ylim=(-0.05,0.05))\n",
    "    plt.ion()\n",
    "    car1 = ax.scatter([t],[0],c='r',s=10)            \n",
    "    car2 = ax.scatter([1 + c*t],[0],c='r',s=10)\n",
    "    vehicle = ax.scatter([x0],[0],c='g',s=10)\n",
    "    metadata = dict(title='Movie Test', artist='Matplotlib',comment='Movie support!')\n",
    "    writer = FFMpegWriter(fps=15, metadata=metadata)\n",
    "    ax.get_yaxis().set_visible(False)\n",
    "    ax.get_xaxis().set_visible(False)    \n",
    "    \n",
    "#     if 1:\n",
    "    with writer.saving(fig, movie_name, 100): \n",
    "\n",
    "        for i in range(N):\n",
    "\n",
    "            #h1\n",
    "            h1 = x - t # x>=t\n",
    "            h1_dot = xdot(x,u) - 1\n",
    "\n",
    "            #h2\n",
    "            h2 = 1 + c*t - x  #x <= 1 + 0.3t\n",
    "            h2_dot = c - xdot(x,u)\n",
    "\n",
    "            if h1<0 or h2<0:\n",
    "                print(\"************* ERROR ****************\")\n",
    "\n",
    "            #constraints\n",
    "            const = [h1_dot >= -a*h1]\n",
    "            const += [h2_dot >= -b*h2]\n",
    "\n",
    "            objective = cp.Maximize(u)\n",
    "            problem = cp.Problem(objective,const)\n",
    "            problem.solve(verbose=False)\n",
    "            if problem.status != 'optimal':\n",
    "                print(f\"PROBLEM INFEASIBLE at :{i}, a:{a.value}, b:{b.value}\")\n",
    "                return i, xs, ts\n",
    "                break\n",
    "\n",
    "            x = x + xdot(x,u.value)*dt\n",
    "    \n",
    "            t += dt\n",
    "            xs.append(x)\n",
    "            ts.append(t)\n",
    "            \n",
    "                      \n",
    "            fig.canvas.draw()\n",
    "            fig.canvas.flush_events()\n",
    "\n",
    "            car1.set_offsets([t,0])\n",
    "            car2.set_offsets([1+c*t,0])\n",
    "            vehicle.set_offsets([x,0])\n",
    "            writer.grab_frame()\n",
    "            \n",
    "    if i==N-1:\n",
    "        print(\"Problem Successful\",t)\n",
    "    return i+1, xs, ts\n",
    "    \n"
   ]
  },
  {
   "cell_type": "code",
   "execution_count": 35,
   "id": "037197dc",
   "metadata": {},
   "outputs": [
    {
     "name": "stdout",
     "output_type": "stream",
     "text": [
      "PROBLEM INFEASIBLE at :104, a:2.5, b:4.5\n"
     ]
    }
   ],
   "source": [
    "#x=0.8, c  = 0.7\n",
    "x0 = 0.5\n",
    "e0 = 0.5\n",
    "C = 0.3\n",
    "A = 2.5\n",
    "B = 4.5\n",
    "_, x1, t1 = simulate_simple(x0,A,B,C)"
   ]
  },
  {
   "cell_type": "code",
   "execution_count": 36,
   "id": "a68c8a6f",
   "metadata": {},
   "outputs": [
    {
     "name": "stdout",
     "output_type": "stream",
     "text": [
      "PROBLEM INFEASIBLE at :32, a:0.5, b:1.5\n"
     ]
    }
   ],
   "source": [
    "#x=0.8, c  = 0.7\n",
    "x0 = 0.5\n",
    "e0 = 0.5\n",
    "C = 0.3\n",
    "A = 0.5\n",
    "B = 1.5\n",
    "_, x2, t2 = simulate_simple(x0,A,B,C)"
   ]
  },
  {
   "cell_type": "code",
   "execution_count": 37,
   "id": "78916fb2",
   "metadata": {},
   "outputs": [
    {
     "name": "stdout",
     "output_type": "stream",
     "text": [
      "PROBLEM INFEASIBLE at :64, a:1.0, b:3.0\n"
     ]
    }
   ],
   "source": [
    "#x=0.8, c  = 0.7\n",
    "x0 = 0.5\n",
    "e0 = 0.5\n",
    "C = 0.3\n",
    "A = 1.0\n",
    "B = 3.0\n",
    "_, x3, t3 = simulate_simple(x0,A,B,C)"
   ]
  },
  {
   "cell_type": "code",
   "execution_count": 38,
   "id": "30b0a5d1",
   "metadata": {},
   "outputs": [
    {
     "name": "stdout",
     "output_type": "stream",
     "text": [
      "PROBLEM INFEASIBLE at :98, a:4.0, b:1.0\n"
     ]
    }
   ],
   "source": [
    "#x=0.8, c  = 0.7\n",
    "x0 = 0.5\n",
    "e0 = 0.5\n",
    "C = 0.3\n",
    "A = 4.0\n",
    "B = 1.0\n",
    "_, x4, t4 = simulate_simple(x0,A,B,C)"
   ]
  },
  {
   "cell_type": "code",
   "execution_count": 39,
   "id": "7eb461bf",
   "metadata": {},
   "outputs": [
    {
     "name": "stdout",
     "output_type": "stream",
     "text": [
      "PROBLEM INFEASIBLE at :87, a:20.4, b:1.0\n"
     ]
    }
   ],
   "source": [
    "#x=0.8, c  = 0.7\n",
    "x0 = 0.1\n",
    "e0 = 0.5\n",
    "C = 0.3\n",
    "A = 20.4\n",
    "B = 1.0\n",
    "_, x5, t5 = simulate_simple(x0,A,B,C)"
   ]
  },
  {
   "cell_type": "code",
   "execution_count": 40,
   "id": "803f4b6d",
   "metadata": {},
   "outputs": [
    {
     "name": "stdout",
     "output_type": "stream",
     "text": [
      "PROBLEM INFEASIBLE at :104, a:2.5, b:4.5\n"
     ]
    }
   ],
   "source": [
    "#x=0.8, c  = 0.7\n",
    "x0 = 0.1\n",
    "e0 = 0.5\n",
    "C = 0.3\n",
    "A = 2.5\n",
    "B = 4.5\n",
    "_, x6, t6 = simulate_simple(x0,A,B,C)"
   ]
  },
  {
   "cell_type": "code",
   "execution_count": 41,
   "id": "e53bad5f",
   "metadata": {},
   "outputs": [
    {
     "name": "stderr",
     "output_type": "stream",
     "text": [
      "/home/hardik/Desktop/Research/Safe-Learning-DASC/venv_sl_dasc/lib/python3.6/site-packages/numpy/core/_asarray.py:136: VisibleDeprecationWarning: Creating an ndarray from ragged nested sequences (which is a list-or-tuple of lists-or-tuples-or ndarrays with different lengths or shapes) is deprecated. If you meant to do this, you must specify 'dtype=object' when creating the ndarray\n",
      "  return array(a, dtype, copy=False, order=order, subok=True)\n",
      "The PostScript backend does not support transparency; partially transparent artists will be rendered opaque.\n",
      "The PostScript backend does not support transparency; partially transparent artists will be rendered opaque.\n"
     ]
    },
    {
     "data": {
      "image/png": "[encoded data removed]",
      "text/plain": [
       "<Figure size 432x288 with 1 Axes>"
      ]
     },
     "metadata": {
      "needs_background": "light"
     },
     "output_type": "display_data"
    }
   ],
   "source": [
    "import matplotlib \n",
    "font = {'family' : 'normal',\n",
    "        'weight' : 'normal',\n",
    "        'size'   : 16}\n",
    "\n",
    "matplotlib.rc('font', **font)\n",
    "\n",
    "plt.plot(t1,x1,label='a=2.5,b=4.5')\n",
    "plt.plot(t2,x2,label='a=0.5,b=1.5')\n",
    "plt.plot(t3,x3,label='a=1.0,b=3.0')\n",
    "plt.plot(t4,x4,label='a=3.0,b=1.0')\n",
    "plt.plot(t5,x5,label='a=20.4,b=1.0')\n",
    "plt.plot(t6,x6,label='a=2.5,b=4.5')\n",
    "\n",
    "\n",
    "tmax = max(max(t1),max(t2))\n",
    "t = np.linspace(0,tmax,30)\n",
    "b1 = t\n",
    "b2 = 1 + C*t\n",
    "\n",
    "plt.axhline(y=0.0, color='k', linestyle='-')\n",
    "plt.axvline(x=0.0, color='k', linestyle='-')\n",
    "\n",
    "plt.plot(t,b1,'k--')\n",
    "plt.plot(t,b2,'k--')\n",
    "plt.xlabel('time')\n",
    "plt.ylabel('x')\n",
    "\n",
    "plt.legend()\n",
    "\n",
    "plt.savefig(\"paths_example1.png\")\n",
    "plt.savefig(\"paths_example1.eps\")"
   ]
  },
  {
   "cell_type": "code",
   "execution_count": 8,
   "id": "60f1d5ac",
   "metadata": {},
   "outputs": [
    {
     "name": "stdout",
     "output_type": "stream",
     "text": [
      "PROBLEM INFEASIBLE at :104, a:2.5, b:4.5\n"
     ]
    },
    {
     "data": {
      "image/png": "[encoded data removed]",
      "text/plain": [
       "<Figure size 144x36 with 1 Axes>"
      ]
     },
     "metadata": {
      "needs_background": "light"
     },
     "output_type": "display_data"
    }
   ],
   "source": [
    "#x=0.8, c  = 0.7\n",
    "x0 = 0.5\n",
    "e0 = 0.5\n",
    "C = 0.3\n",
    "A = 2.5\n",
    "B = 4.5\n",
    "_, x_1, t_1 = simulate_simple(x0,A,B,C,movie_name='param1.mp4')"
   ]
  },
  {
   "cell_type": "code",
   "execution_count": 38,
   "id": "7ef410e5",
   "metadata": {},
   "outputs": [
    {
     "name": "stdout",
     "output_type": "stream",
     "text": [
      "PROBLEM INFEASIBLE at :64, a:1.0, b:3.0\n"
     ]
    },
    {
     "data": {
      "image/png": "[encoded data removed]",
      "text/plain": [
       "<Figure size 144x36 with 1 Axes>"
      ]
     },
     "metadata": {
      "needs_background": "light"
     },
     "output_type": "display_data"
    }
   ],
   "source": [
    "#x=0.8, c  = 0.7\n",
    "x0 = 0.5\n",
    "e0 = 0.5\n",
    "C = 0.3\n",
    "A = 1.0\n",
    "B = 3.0\n",
    "_, x_2, t_2 = simulate_simple(x0,A,B,C,movie_name='param2.mp4')"
   ]
  },
  {
   "cell_type": "code",
   "execution_count": 40,
   "id": "a1bcebce",
   "metadata": {},
   "outputs": [
    {
     "name": "stdout",
     "output_type": "stream",
     "text": [
      "PROBLEM INFEASIBLE at :91, a:3.0, b:1.0\n"
     ]
    },
    {
     "data": {
      "image/png": "[encoded data removed]",
      "text/plain": [
       "<Figure size 144x36 with 1 Axes>"
      ]
     },
     "metadata": {
      "needs_background": "light"
     },
     "output_type": "display_data"
    }
   ],
   "source": [
    "#x=0.8, c  = 0.7\n",
    "x0 = 0.5\n",
    "e0 = 0.5\n",
    "C = 0.3\n",
    "A = 3.0\n",
    "B = 1.0\n",
    "_, x_3, t_3 = simulate_simple(x0,A,B,C,movie_name='param3.mp4')"
   ]
  },
  {
   "cell_type": "code",
   "execution_count": 5,
   "id": "18a8f80c",
   "metadata": {},
   "outputs": [
    {
     "name": "stdout",
     "output_type": "stream",
     "text": [
      "PROBLEM INFEASIBLE at :0, a:0.0, b:0.0\n",
      "PROBLEM INFEASIBLE at :0, a:0.0, b:0.2631578947368421\n",
      "PROBLEM INFEASIBLE at :87, a:0.0, b:0.5263157894736842\n",
      "PROBLEM INFEASIBLE at :109, a:0.0, b:0.7894736842105263\n",
      "PROBLEM INFEASIBLE at :109, a:0.0, b:1.0526315789473684\n",
      "PROBLEM INFEASIBLE at :104, a:0.0, b:1.3157894736842104\n",
      "PROBLEM INFEASIBLE at :98, a:0.0, b:1.5789473684210527\n",
      "PROBLEM INFEASIBLE at :92, a:0.0, b:1.8421052631578947\n",
      "PROBLEM INFEASIBLE at :87, a:0.0, b:2.1052631578947367\n",
      "PROBLEM INFEASIBLE at :82, a:0.0, b:2.3684210526315788\n",
      "PROBLEM INFEASIBLE at :78, a:0.0, b:2.631578947368421\n",
      "PROBLEM INFEASIBLE at :74, a:0.0, b:2.894736842105263\n",
      "PROBLEM INFEASIBLE at :71, a:0.0, b:3.1578947368421053\n",
      "PROBLEM INFEASIBLE at :67, a:0.0, b:3.4210526315789473\n",
      "PROBLEM INFEASIBLE at :65, a:0.0, b:3.6842105263157894\n",
      "PROBLEM INFEASIBLE at :62, a:0.0, b:3.9473684210526314\n",
      "PROBLEM INFEASIBLE at :59, a:0.0, b:4.2105263157894735\n",
      "PROBLEM INFEASIBLE at :57, a:0.0, b:4.473684210526316\n",
      "PROBLEM INFEASIBLE at :55, a:0.0, b:4.7368421052631575\n",
      "PROBLEM INFEASIBLE at :53, a:0.0, b:5.0\n",
      "PROBLEM INFEASIBLE at :0, a:0.2631578947368421, b:0.0\n",
      "PROBLEM INFEASIBLE at :0, a:0.2631578947368421, b:0.2631578947368421\n",
      "PROBLEM INFEASIBLE at :116, a:0.2631578947368421, b:0.5263157894736842\n",
      "PROBLEM INFEASIBLE at :145, a:0.2631578947368421, b:0.7894736842105263\n",
      "PROBLEM INFEASIBLE at :146, a:0.2631578947368421, b:1.0526315789473684\n",
      "PROBLEM INFEASIBLE at :141, a:0.2631578947368421, b:1.3157894736842104\n",
      "PROBLEM INFEASIBLE at :134, a:0.2631578947368421, b:1.5789473684210527\n",
      "PROBLEM INFEASIBLE at :127, a:0.2631578947368421, b:1.8421052631578947\n",
      "PROBLEM INFEASIBLE at :120, a:0.2631578947368421, b:2.1052631578947367\n",
      "PROBLEM INFEASIBLE at :114, a:0.2631578947368421, b:2.3684210526315788\n",
      "PROBLEM INFEASIBLE at :108, a:0.2631578947368421, b:2.631578947368421\n",
      "PROBLEM INFEASIBLE at :103, a:0.2631578947368421, b:2.894736842105263\n",
      "PROBLEM INFEASIBLE at :98, a:0.2631578947368421, b:3.1578947368421053\n",
      "PROBLEM INFEASIBLE at :94, a:0.2631578947368421, b:3.4210526315789473\n",
      "PROBLEM INFEASIBLE at :90, a:0.2631578947368421, b:3.6842105263157894\n",
      "PROBLEM INFEASIBLE at :86, a:0.2631578947368421, b:3.9473684210526314\n",
      "PROBLEM INFEASIBLE at :83, a:0.2631578947368421, b:4.2105263157894735\n",
      "PROBLEM INFEASIBLE at :80, a:0.2631578947368421, b:4.473684210526316\n",
      "PROBLEM INFEASIBLE at :77, a:0.2631578947368421, b:4.7368421052631575\n",
      "PROBLEM INFEASIBLE at :75, a:0.2631578947368421, b:5.0\n",
      "PROBLEM INFEASIBLE at :0, a:0.5263157894736842, b:0.0\n",
      "PROBLEM INFEASIBLE at :0, a:0.5263157894736842, b:0.2631578947368421\n",
      "PROBLEM INFEASIBLE at :144, a:0.5263157894736842, b:0.5263157894736842\n",
      "PROBLEM INFEASIBLE at :180, a:0.5263157894736842, b:0.7894736842105263\n",
      "PROBLEM INFEASIBLE at :186, a:0.5263157894736842, b:1.0526315789473684\n",
      "PROBLEM INFEASIBLE at :184, a:0.5263157894736842, b:1.3157894736842104\n",
      "PROBLEM INFEASIBLE at :179, a:0.5263157894736842, b:1.5789473684210527\n",
      "PROBLEM INFEASIBLE at :174, a:0.5263157894736842, b:1.8421052631578947\n",
      "PROBLEM INFEASIBLE at :169, a:0.5263157894736842, b:2.1052631578947367\n",
      "PROBLEM INFEASIBLE at :164, a:0.5263157894736842, b:2.3684210526315788\n",
      "PROBLEM INFEASIBLE at :161, a:0.5263157894736842, b:2.631578947368421\n",
      "PROBLEM INFEASIBLE at :157, a:0.5263157894736842, b:2.894736842105263\n",
      "PROBLEM INFEASIBLE at :155, a:0.5263157894736842, b:3.1578947368421053\n",
      "PROBLEM INFEASIBLE at :152, a:0.5263157894736842, b:3.4210526315789473\n",
      "PROBLEM INFEASIBLE at :150, a:0.5263157894736842, b:3.6842105263157894\n",
      "PROBLEM INFEASIBLE at :149, a:0.5263157894736842, b:3.9473684210526314\n",
      "PROBLEM INFEASIBLE at :148, a:0.5263157894736842, b:4.2105263157894735\n",
      "PROBLEM INFEASIBLE at :147, a:0.5263157894736842, b:4.473684210526316\n",
      "PROBLEM INFEASIBLE at :146, a:0.5263157894736842, b:4.7368421052631575\n",
      "PROBLEM INFEASIBLE at :145, a:0.5263157894736842, b:5.0\n",
      "PROBLEM INFEASIBLE at :0, a:0.7894736842105263, b:0.0\n",
      "PROBLEM INFEASIBLE at :14, a:0.7894736842105263, b:0.2631578947368421\n",
      "PROBLEM INFEASIBLE at :165, a:0.7894736842105263, b:0.5263157894736842\n",
      "PROBLEM INFEASIBLE at :207, a:0.7894736842105263, b:0.7894736842105263\n",
      "PROBLEM INFEASIBLE at :217, a:0.7894736842105263, b:1.0526315789473684\n",
      "PROBLEM INFEASIBLE at :218, a:0.7894736842105263, b:1.3157894736842104\n",
      "PROBLEM INFEASIBLE at :217, a:0.7894736842105263, b:1.5789473684210527\n",
      "PROBLEM INFEASIBLE at :215, a:0.7894736842105263, b:1.8421052631578947\n",
      "PROBLEM INFEASIBLE at :213, a:0.7894736842105263, b:2.1052631578947367\n",
      "PROBLEM INFEASIBLE at :211, a:0.7894736842105263, b:2.3684210526315788\n",
      "PROBLEM INFEASIBLE at :210, a:0.7894736842105263, b:2.631578947368421\n",
      "PROBLEM INFEASIBLE at :209, a:0.7894736842105263, b:2.894736842105263\n",
      "PROBLEM INFEASIBLE at :208, a:0.7894736842105263, b:3.1578947368421053\n",
      "PROBLEM INFEASIBLE at :208, a:0.7894736842105263, b:3.4210526315789473\n",
      "PROBLEM INFEASIBLE at :208, a:0.7894736842105263, b:3.6842105263157894\n",
      "PROBLEM INFEASIBLE at :207, a:0.7894736842105263, b:3.9473684210526314\n",
      "PROBLEM INFEASIBLE at :207, a:0.7894736842105263, b:4.2105263157894735\n",
      "PROBLEM INFEASIBLE at :207, a:0.7894736842105263, b:4.473684210526316\n",
      "PROBLEM INFEASIBLE at :207, a:0.7894736842105263, b:4.7368421052631575\n",
      "PROBLEM INFEASIBLE at :207, a:0.7894736842105263, b:5.0\n",
      "PROBLEM INFEASIBLE at :0, a:1.0526315789473684, b:0.0\n",
      "PROBLEM INFEASIBLE at :31, a:1.0526315789473684, b:0.2631578947368421\n",
      "PROBLEM INFEASIBLE at :181, a:1.0526315789473684, b:0.5263157894736842\n",
      "PROBLEM INFEASIBLE at :226, a:1.0526315789473684, b:0.7894736842105263\n",
      "PROBLEM INFEASIBLE at :239, a:1.0526315789473684, b:1.0526315789473684\n",
      "PROBLEM INFEASIBLE at :242, a:1.0526315789473684, b:1.3157894736842104\n",
      "PROBLEM INFEASIBLE at :242, a:1.0526315789473684, b:1.5789473684210527\n",
      "PROBLEM INFEASIBLE at :241, a:1.0526315789473684, b:1.8421052631578947\n",
      "PROBLEM INFEASIBLE at :241, a:1.0526315789473684, b:2.1052631578947367\n",
      "PROBLEM INFEASIBLE at :240, a:1.0526315789473684, b:2.3684210526315788\n",
      "PROBLEM INFEASIBLE at :240, a:1.0526315789473684, b:2.631578947368421\n",
      "PROBLEM INFEASIBLE at :239, a:1.0526315789473684, b:2.894736842105263\n",
      "PROBLEM INFEASIBLE at :239, a:1.0526315789473684, b:3.1578947368421053\n",
      "PROBLEM INFEASIBLE at :239, a:1.0526315789473684, b:3.4210526315789473\n",
      "PROBLEM INFEASIBLE at :239, a:1.0526315789473684, b:3.6842105263157894\n",
      "PROBLEM INFEASIBLE at :239, a:1.0526315789473684, b:3.9473684210526314\n",
      "PROBLEM INFEASIBLE at :239, a:1.0526315789473684, b:4.2105263157894735\n",
      "PROBLEM INFEASIBLE at :239, a:1.0526315789473684, b:4.473684210526316\n",
      "PROBLEM INFEASIBLE at :239, a:1.0526315789473684, b:4.7368421052631575\n",
      "PROBLEM INFEASIBLE at :239, a:1.0526315789473684, b:5.0\n",
      "PROBLEM INFEASIBLE at :0, a:1.3157894736842104, b:0.0\n",
      "PROBLEM INFEASIBLE at :44, a:1.3157894736842104, b:0.2631578947368421\n",
      "PROBLEM INFEASIBLE at :192, a:1.3157894736842104, b:0.5263157894736842\n",
      "PROBLEM INFEASIBLE at :240, a:1.3157894736842104, b:0.7894736842105263\n",
      "PROBLEM INFEASIBLE at :254, a:1.3157894736842104, b:1.0526315789473684\n",
      "PROBLEM INFEASIBLE at :258, a:1.3157894736842104, b:1.3157894736842104\n",
      "PROBLEM INFEASIBLE at :259, a:1.3157894736842104, b:1.5789473684210527\n",
      "PROBLEM INFEASIBLE at :259, a:1.3157894736842104, b:1.8421052631578947\n",
      "PROBLEM INFEASIBLE at :259, a:1.3157894736842104, b:2.1052631578947367\n",
      "PROBLEM INFEASIBLE at :258, a:1.3157894736842104, b:2.3684210526315788\n",
      "PROBLEM INFEASIBLE at :258, a:1.3157894736842104, b:2.631578947368421\n",
      "PROBLEM INFEASIBLE at :258, a:1.3157894736842104, b:2.894736842105263\n",
      "PROBLEM INFEASIBLE at :258, a:1.3157894736842104, b:3.1578947368421053\n",
      "PROBLEM INFEASIBLE at :258, a:1.3157894736842104, b:3.4210526315789473\n",
      "PROBLEM INFEASIBLE at :258, a:1.3157894736842104, b:3.6842105263157894\n",
      "PROBLEM INFEASIBLE at :258, a:1.3157894736842104, b:3.9473684210526314\n",
      "PROBLEM INFEASIBLE at :258, a:1.3157894736842104, b:4.2105263157894735\n",
      "PROBLEM INFEASIBLE at :258, a:1.3157894736842104, b:4.473684210526316\n",
      "PROBLEM INFEASIBLE at :258, a:1.3157894736842104, b:4.7368421052631575\n",
      "PROBLEM INFEASIBLE at :258, a:1.3157894736842104, b:5.0\n",
      "PROBLEM INFEASIBLE at :0, a:1.5789473684210527, b:0.0\n",
      "PROBLEM INFEASIBLE at :53, a:1.5789473684210527, b:0.2631578947368421\n",
      "PROBLEM INFEASIBLE at :201, a:1.5789473684210527, b:0.5263157894736842\n",
      "PROBLEM INFEASIBLE at :250, a:1.5789473684210527, b:0.7894736842105263\n"
     ]
    },
    {
     "name": "stdout",
     "output_type": "stream",
     "text": [
      "PROBLEM INFEASIBLE at :264, a:1.5789473684210527, b:1.0526315789473684\n",
      "PROBLEM INFEASIBLE at :269, a:1.5789473684210527, b:1.3157894736842104\n",
      "PROBLEM INFEASIBLE at :271, a:1.5789473684210527, b:1.5789473684210527\n",
      "PROBLEM INFEASIBLE at :271, a:1.5789473684210527, b:1.8421052631578947\n",
      "PROBLEM INFEASIBLE at :271, a:1.5789473684210527, b:2.1052631578947367\n",
      "PROBLEM INFEASIBLE at :271, a:1.5789473684210527, b:2.3684210526315788\n",
      "PROBLEM INFEASIBLE at :271, a:1.5789473684210527, b:2.631578947368421\n",
      "PROBLEM INFEASIBLE at :271, a:1.5789473684210527, b:2.894736842105263\n",
      "PROBLEM INFEASIBLE at :271, a:1.5789473684210527, b:3.1578947368421053\n",
      "PROBLEM INFEASIBLE at :271, a:1.5789473684210527, b:3.4210526315789473\n",
      "PROBLEM INFEASIBLE at :271, a:1.5789473684210527, b:3.6842105263157894\n",
      "PROBLEM INFEASIBLE at :271, a:1.5789473684210527, b:3.9473684210526314\n",
      "PROBLEM INFEASIBLE at :271, a:1.5789473684210527, b:4.2105263157894735\n",
      "PROBLEM INFEASIBLE at :271, a:1.5789473684210527, b:4.473684210526316\n",
      "PROBLEM INFEASIBLE at :271, a:1.5789473684210527, b:4.7368421052631575\n",
      "PROBLEM INFEASIBLE at :271, a:1.5789473684210527, b:5.0\n",
      "PROBLEM INFEASIBLE at :0, a:1.8421052631578947, b:0.0\n",
      "PROBLEM INFEASIBLE at :59, a:1.8421052631578947, b:0.2631578947368421\n",
      "PROBLEM INFEASIBLE at :208, a:1.8421052631578947, b:0.5263157894736842\n",
      "PROBLEM INFEASIBLE at :257, a:1.8421052631578947, b:0.7894736842105263\n",
      "PROBLEM INFEASIBLE at :272, a:1.8421052631578947, b:1.0526315789473684\n",
      "PROBLEM INFEASIBLE at :277, a:1.8421052631578947, b:1.3157894736842104\n",
      "PROBLEM INFEASIBLE at :279, a:1.8421052631578947, b:1.5789473684210527\n",
      "PROBLEM INFEASIBLE at :280, a:1.8421052631578947, b:1.8421052631578947\n",
      "PROBLEM INFEASIBLE at :280, a:1.8421052631578947, b:2.1052631578947367\n",
      "PROBLEM INFEASIBLE at :280, a:1.8421052631578947, b:2.3684210526315788\n",
      "PROBLEM INFEASIBLE at :280, a:1.8421052631578947, b:2.631578947368421\n",
      "PROBLEM INFEASIBLE at :280, a:1.8421052631578947, b:2.894736842105263\n",
      "PROBLEM INFEASIBLE at :280, a:1.8421052631578947, b:3.1578947368421053\n",
      "PROBLEM INFEASIBLE at :280, a:1.8421052631578947, b:3.4210526315789473\n",
      "PROBLEM INFEASIBLE at :280, a:1.8421052631578947, b:3.6842105263157894\n",
      "PROBLEM INFEASIBLE at :280, a:1.8421052631578947, b:3.9473684210526314\n",
      "PROBLEM INFEASIBLE at :280, a:1.8421052631578947, b:4.2105263157894735\n",
      "PROBLEM INFEASIBLE at :280, a:1.8421052631578947, b:4.473684210526316\n",
      "PROBLEM INFEASIBLE at :280, a:1.8421052631578947, b:4.7368421052631575\n",
      "PROBLEM INFEASIBLE at :280, a:1.8421052631578947, b:5.0\n",
      "PROBLEM INFEASIBLE at :0, a:2.1052631578947367, b:0.0\n",
      "PROBLEM INFEASIBLE at :65, a:2.1052631578947367, b:0.2631578947368421\n",
      "PROBLEM INFEASIBLE at :213, a:2.1052631578947367, b:0.5263157894736842\n",
      "PROBLEM INFEASIBLE at :263, a:2.1052631578947367, b:0.7894736842105263\n",
      "PROBLEM INFEASIBLE at :278, a:2.1052631578947367, b:1.0526315789473684\n",
      "PROBLEM INFEASIBLE at :284, a:2.1052631578947367, b:1.3157894736842104\n",
      "PROBLEM INFEASIBLE at :286, a:2.1052631578947367, b:1.5789473684210527\n",
      "PROBLEM INFEASIBLE at :286, a:2.1052631578947367, b:1.8421052631578947\n",
      "PROBLEM INFEASIBLE at :286, a:2.1052631578947367, b:2.1052631578947367\n",
      "PROBLEM INFEASIBLE at :286, a:2.1052631578947367, b:2.3684210526315788\n",
      "PROBLEM INFEASIBLE at :286, a:2.1052631578947367, b:2.631578947368421\n",
      "PROBLEM INFEASIBLE at :286, a:2.1052631578947367, b:2.894736842105263\n",
      "PROBLEM INFEASIBLE at :286, a:2.1052631578947367, b:3.1578947368421053\n",
      "PROBLEM INFEASIBLE at :286, a:2.1052631578947367, b:3.4210526315789473\n",
      "PROBLEM INFEASIBLE at :286, a:2.1052631578947367, b:3.6842105263157894\n",
      "PROBLEM INFEASIBLE at :286, a:2.1052631578947367, b:3.9473684210526314\n",
      "PROBLEM INFEASIBLE at :286, a:2.1052631578947367, b:4.2105263157894735\n",
      "PROBLEM INFEASIBLE at :286, a:2.1052631578947367, b:4.473684210526316\n",
      "PROBLEM INFEASIBLE at :286, a:2.1052631578947367, b:4.7368421052631575\n",
      "PROBLEM INFEASIBLE at :286, a:2.1052631578947367, b:5.0\n",
      "PROBLEM INFEASIBLE at :0, a:2.3684210526315788, b:0.0\n",
      "PROBLEM INFEASIBLE at :69, a:2.3684210526315788, b:0.2631578947368421\n",
      "PROBLEM INFEASIBLE at :217, a:2.3684210526315788, b:0.5263157894736842\n",
      "PROBLEM INFEASIBLE at :268, a:2.3684210526315788, b:0.7894736842105263\n",
      "PROBLEM INFEASIBLE at :283, a:2.3684210526315788, b:1.0526315789473684\n",
      "PROBLEM INFEASIBLE at :289, a:2.3684210526315788, b:1.3157894736842104\n",
      "PROBLEM INFEASIBLE at :291, a:2.3684210526315788, b:1.5789473684210527\n",
      "PROBLEM INFEASIBLE at :291, a:2.3684210526315788, b:1.8421052631578947\n",
      "PROBLEM INFEASIBLE at :292, a:2.3684210526315788, b:2.1052631578947367\n",
      "PROBLEM INFEASIBLE at :292, a:2.3684210526315788, b:2.3684210526315788\n",
      "PROBLEM INFEASIBLE at :292, a:2.3684210526315788, b:2.631578947368421\n",
      "PROBLEM INFEASIBLE at :292, a:2.3684210526315788, b:2.894736842105263\n",
      "PROBLEM INFEASIBLE at :292, a:2.3684210526315788, b:3.1578947368421053\n",
      "PROBLEM INFEASIBLE at :292, a:2.3684210526315788, b:3.4210526315789473\n",
      "PROBLEM INFEASIBLE at :292, a:2.3684210526315788, b:3.6842105263157894\n",
      "PROBLEM INFEASIBLE at :292, a:2.3684210526315788, b:3.9473684210526314\n",
      "PROBLEM INFEASIBLE at :292, a:2.3684210526315788, b:4.2105263157894735\n",
      "PROBLEM INFEASIBLE at :292, a:2.3684210526315788, b:4.473684210526316\n",
      "PROBLEM INFEASIBLE at :292, a:2.3684210526315788, b:4.7368421052631575\n",
      "PROBLEM INFEASIBLE at :292, a:2.3684210526315788, b:5.0\n",
      "PROBLEM INFEASIBLE at :0, a:2.631578947368421, b:0.0\n",
      "PROBLEM INFEASIBLE at :72, a:2.631578947368421, b:0.2631578947368421\n",
      "PROBLEM INFEASIBLE at :221, a:2.631578947368421, b:0.5263157894736842\n",
      "PROBLEM INFEASIBLE at :271, a:2.631578947368421, b:0.7894736842105263\n",
      "PROBLEM INFEASIBLE at :287, a:2.631578947368421, b:1.0526315789473684\n",
      "PROBLEM INFEASIBLE at :293, a:2.631578947368421, b:1.3157894736842104\n",
      "PROBLEM INFEASIBLE at :295, a:2.631578947368421, b:1.5789473684210527\n",
      "PROBLEM INFEASIBLE at :295, a:2.631578947368421, b:1.8421052631578947\n",
      "PROBLEM INFEASIBLE at :296, a:2.631578947368421, b:2.1052631578947367\n",
      "PROBLEM INFEASIBLE at :296, a:2.631578947368421, b:2.3684210526315788\n",
      "PROBLEM INFEASIBLE at :296, a:2.631578947368421, b:2.631578947368421\n",
      "PROBLEM INFEASIBLE at :296, a:2.631578947368421, b:2.894736842105263\n",
      "PROBLEM INFEASIBLE at :296, a:2.631578947368421, b:3.1578947368421053\n",
      "PROBLEM INFEASIBLE at :296, a:2.631578947368421, b:3.4210526315789473\n",
      "PROBLEM INFEASIBLE at :296, a:2.631578947368421, b:3.6842105263157894\n",
      "PROBLEM INFEASIBLE at :296, a:2.631578947368421, b:3.9473684210526314\n",
      "PROBLEM INFEASIBLE at :296, a:2.631578947368421, b:4.2105263157894735\n",
      "PROBLEM INFEASIBLE at :296, a:2.631578947368421, b:4.473684210526316\n",
      "PROBLEM INFEASIBLE at :296, a:2.631578947368421, b:4.7368421052631575\n",
      "PROBLEM INFEASIBLE at :296, a:2.631578947368421, b:5.0\n",
      "PROBLEM INFEASIBLE at :0, a:2.894736842105263, b:0.0\n",
      "PROBLEM INFEASIBLE at :75, a:2.894736842105263, b:0.2631578947368421\n",
      "PROBLEM INFEASIBLE at :224, a:2.894736842105263, b:0.5263157894736842\n",
      "PROBLEM INFEASIBLE at :274, a:2.894736842105263, b:0.7894736842105263\n",
      "PROBLEM INFEASIBLE at :290, a:2.894736842105263, b:1.0526315789473684\n",
      "PROBLEM INFEASIBLE at :296, a:2.894736842105263, b:1.3157894736842104\n",
      "PROBLEM INFEASIBLE at :298, a:2.894736842105263, b:1.5789473684210527\n",
      "PROBLEM INFEASIBLE at :299, a:2.894736842105263, b:1.8421052631578947\n",
      "PROBLEM INFEASIBLE at :299, a:2.894736842105263, b:2.1052631578947367\n",
      "PROBLEM INFEASIBLE at :299, a:2.894736842105263, b:2.3684210526315788\n",
      "PROBLEM INFEASIBLE at :299, a:2.894736842105263, b:2.631578947368421\n",
      "PROBLEM INFEASIBLE at :299, a:2.894736842105263, b:2.894736842105263\n",
      "PROBLEM INFEASIBLE at :299, a:2.894736842105263, b:3.1578947368421053\n",
      "PROBLEM INFEASIBLE at :299, a:2.894736842105263, b:3.4210526315789473\n",
      "PROBLEM INFEASIBLE at :299, a:2.894736842105263, b:3.6842105263157894\n",
      "PROBLEM INFEASIBLE at :299, a:2.894736842105263, b:3.9473684210526314\n",
      "PROBLEM INFEASIBLE at :299, a:2.894736842105263, b:4.2105263157894735\n",
      "PROBLEM INFEASIBLE at :299, a:2.894736842105263, b:4.473684210526316\n",
      "PROBLEM INFEASIBLE at :299, a:2.894736842105263, b:4.7368421052631575\n",
      "PROBLEM INFEASIBLE at :299, a:2.894736842105263, b:5.0\n",
      "PROBLEM INFEASIBLE at :2, a:3.1578947368421053, b:0.0\n",
      "PROBLEM INFEASIBLE at :78, a:3.1578947368421053, b:0.2631578947368421\n",
      "PROBLEM INFEASIBLE at :226, a:3.1578947368421053, b:0.5263157894736842\n"
     ]
    },
    {
     "name": "stdout",
     "output_type": "stream",
     "text": [
      "PROBLEM INFEASIBLE at :277, a:3.1578947368421053, b:0.7894736842105263\n",
      "PROBLEM INFEASIBLE at :293, a:3.1578947368421053, b:1.0526315789473684\n",
      "PROBLEM INFEASIBLE at :299, a:3.1578947368421053, b:1.3157894736842104\n",
      "PROBLEM INFEASIBLE at :301, a:3.1578947368421053, b:1.5789473684210527\n",
      "PROBLEM INFEASIBLE at :302, a:3.1578947368421053, b:1.8421052631578947\n",
      "PROBLEM INFEASIBLE at :302, a:3.1578947368421053, b:2.1052631578947367\n",
      "PROBLEM INFEASIBLE at :302, a:3.1578947368421053, b:2.3684210526315788\n",
      "PROBLEM INFEASIBLE at :302, a:3.1578947368421053, b:2.631578947368421\n",
      "PROBLEM INFEASIBLE at :302, a:3.1578947368421053, b:2.894736842105263\n",
      "PROBLEM INFEASIBLE at :302, a:3.1578947368421053, b:3.1578947368421053\n",
      "PROBLEM INFEASIBLE at :302, a:3.1578947368421053, b:3.4210526315789473\n",
      "PROBLEM INFEASIBLE at :302, a:3.1578947368421053, b:3.6842105263157894\n",
      "PROBLEM INFEASIBLE at :302, a:3.1578947368421053, b:3.9473684210526314\n",
      "PROBLEM INFEASIBLE at :302, a:3.1578947368421053, b:4.2105263157894735\n",
      "PROBLEM INFEASIBLE at :302, a:3.1578947368421053, b:4.473684210526316\n",
      "PROBLEM INFEASIBLE at :302, a:3.1578947368421053, b:4.7368421052631575\n",
      "PROBLEM INFEASIBLE at :302, a:3.1578947368421053, b:5.0\n",
      "PROBLEM INFEASIBLE at :5, a:3.4210526315789473, b:0.0\n",
      "PROBLEM INFEASIBLE at :80, a:3.4210526315789473, b:0.2631578947368421\n",
      "PROBLEM INFEASIBLE at :228, a:3.4210526315789473, b:0.5263157894736842\n",
      "PROBLEM INFEASIBLE at :279, a:3.4210526315789473, b:0.7894736842105263\n",
      "PROBLEM INFEASIBLE at :295, a:3.4210526315789473, b:1.0526315789473684\n",
      "PROBLEM INFEASIBLE at :301, a:3.4210526315789473, b:1.3157894736842104\n",
      "PROBLEM INFEASIBLE at :303, a:3.4210526315789473, b:1.5789473684210527\n",
      "PROBLEM INFEASIBLE at :304, a:3.4210526315789473, b:1.8421052631578947\n",
      "PROBLEM INFEASIBLE at :304, a:3.4210526315789473, b:2.1052631578947367\n",
      "PROBLEM INFEASIBLE at :305, a:3.4210526315789473, b:2.3684210526315788\n",
      "PROBLEM INFEASIBLE at :305, a:3.4210526315789473, b:2.631578947368421\n",
      "PROBLEM INFEASIBLE at :305, a:3.4210526315789473, b:2.894736842105263\n",
      "PROBLEM INFEASIBLE at :305, a:3.4210526315789473, b:3.1578947368421053\n",
      "PROBLEM INFEASIBLE at :305, a:3.4210526315789473, b:3.4210526315789473\n",
      "PROBLEM INFEASIBLE at :305, a:3.4210526315789473, b:3.6842105263157894\n",
      "PROBLEM INFEASIBLE at :305, a:3.4210526315789473, b:3.9473684210526314\n",
      "PROBLEM INFEASIBLE at :305, a:3.4210526315789473, b:4.2105263157894735\n",
      "PROBLEM INFEASIBLE at :305, a:3.4210526315789473, b:4.473684210526316\n",
      "PROBLEM INFEASIBLE at :305, a:3.4210526315789473, b:4.7368421052631575\n",
      "PROBLEM INFEASIBLE at :305, a:3.4210526315789473, b:5.0\n",
      "PROBLEM INFEASIBLE at :7, a:3.6842105263157894, b:0.0\n",
      "PROBLEM INFEASIBLE at :82, a:3.6842105263157894, b:0.2631578947368421\n",
      "PROBLEM INFEASIBLE at :230, a:3.6842105263157894, b:0.5263157894736842\n",
      "PROBLEM INFEASIBLE at :281, a:3.6842105263157894, b:0.7894736842105263\n",
      "PROBLEM INFEASIBLE at :297, a:3.6842105263157894, b:1.0526315789473684\n",
      "PROBLEM INFEASIBLE at :303, a:3.6842105263157894, b:1.3157894736842104\n",
      "PROBLEM INFEASIBLE at :305, a:3.6842105263157894, b:1.5789473684210527\n",
      "PROBLEM INFEASIBLE at :306, a:3.6842105263157894, b:1.8421052631578947\n",
      "PROBLEM INFEASIBLE at :306, a:3.6842105263157894, b:2.1052631578947367\n",
      "PROBLEM INFEASIBLE at :307, a:3.6842105263157894, b:2.3684210526315788\n",
      "PROBLEM INFEASIBLE at :307, a:3.6842105263157894, b:2.631578947368421\n",
      "PROBLEM INFEASIBLE at :307, a:3.6842105263157894, b:2.894736842105263\n",
      "PROBLEM INFEASIBLE at :307, a:3.6842105263157894, b:3.1578947368421053\n",
      "PROBLEM INFEASIBLE at :307, a:3.6842105263157894, b:3.4210526315789473\n",
      "PROBLEM INFEASIBLE at :307, a:3.6842105263157894, b:3.6842105263157894\n",
      "PROBLEM INFEASIBLE at :307, a:3.6842105263157894, b:3.9473684210526314\n",
      "PROBLEM INFEASIBLE at :307, a:3.6842105263157894, b:4.2105263157894735\n",
      "PROBLEM INFEASIBLE at :307, a:3.6842105263157894, b:4.473684210526316\n",
      "PROBLEM INFEASIBLE at :307, a:3.6842105263157894, b:4.7368421052631575\n",
      "PROBLEM INFEASIBLE at :307, a:3.6842105263157894, b:5.0\n",
      "PROBLEM INFEASIBLE at :9, a:3.9473684210526314, b:0.0\n",
      "PROBLEM INFEASIBLE at :84, a:3.9473684210526314, b:0.2631578947368421\n",
      "PROBLEM INFEASIBLE at :232, a:3.9473684210526314, b:0.5263157894736842\n",
      "PROBLEM INFEASIBLE at :283, a:3.9473684210526314, b:0.7894736842105263\n",
      "PROBLEM INFEASIBLE at :299, a:3.9473684210526314, b:1.0526315789473684\n",
      "PROBLEM INFEASIBLE at :305, a:3.9473684210526314, b:1.3157894736842104\n",
      "PROBLEM INFEASIBLE at :307, a:3.9473684210526314, b:1.5789473684210527\n",
      "PROBLEM INFEASIBLE at :308, a:3.9473684210526314, b:1.8421052631578947\n",
      "PROBLEM INFEASIBLE at :308, a:3.9473684210526314, b:2.1052631578947367\n",
      "PROBLEM INFEASIBLE at :308, a:3.9473684210526314, b:2.3684210526315788\n",
      "PROBLEM INFEASIBLE at :308, a:3.9473684210526314, b:2.631578947368421\n",
      "PROBLEM INFEASIBLE at :308, a:3.9473684210526314, b:2.894736842105263\n",
      "PROBLEM INFEASIBLE at :308, a:3.9473684210526314, b:3.1578947368421053\n",
      "PROBLEM INFEASIBLE at :308, a:3.9473684210526314, b:3.4210526315789473\n",
      "PROBLEM INFEASIBLE at :308, a:3.9473684210526314, b:3.6842105263157894\n",
      "PROBLEM INFEASIBLE at :309, a:3.9473684210526314, b:3.9473684210526314\n",
      "PROBLEM INFEASIBLE at :309, a:3.9473684210526314, b:4.2105263157894735\n",
      "PROBLEM INFEASIBLE at :309, a:3.9473684210526314, b:4.473684210526316\n",
      "PROBLEM INFEASIBLE at :309, a:3.9473684210526314, b:4.7368421052631575\n",
      "PROBLEM INFEASIBLE at :309, a:3.9473684210526314, b:5.0\n",
      "PROBLEM INFEASIBLE at :10, a:4.2105263157894735, b:0.0\n",
      "PROBLEM INFEASIBLE at :85, a:4.2105263157894735, b:0.2631578947368421\n",
      "PROBLEM INFEASIBLE at :233, a:4.2105263157894735, b:0.5263157894736842\n",
      "PROBLEM INFEASIBLE at :284, a:4.2105263157894735, b:0.7894736842105263\n",
      "PROBLEM INFEASIBLE at :301, a:4.2105263157894735, b:1.0526315789473684\n",
      "PROBLEM INFEASIBLE at :307, a:4.2105263157894735, b:1.3157894736842104\n",
      "PROBLEM INFEASIBLE at :309, a:4.2105263157894735, b:1.5789473684210527\n",
      "PROBLEM INFEASIBLE at :310, a:4.2105263157894735, b:1.8421052631578947\n",
      "PROBLEM INFEASIBLE at :310, a:4.2105263157894735, b:2.1052631578947367\n",
      "PROBLEM INFEASIBLE at :310, a:4.2105263157894735, b:2.3684210526315788\n",
      "PROBLEM INFEASIBLE at :310, a:4.2105263157894735, b:2.631578947368421\n",
      "PROBLEM INFEASIBLE at :310, a:4.2105263157894735, b:2.894736842105263\n",
      "PROBLEM INFEASIBLE at :310, a:4.2105263157894735, b:3.1578947368421053\n",
      "PROBLEM INFEASIBLE at :310, a:4.2105263157894735, b:3.4210526315789473\n",
      "PROBLEM INFEASIBLE at :310, a:4.2105263157894735, b:3.6842105263157894\n",
      "PROBLEM INFEASIBLE at :310, a:4.2105263157894735, b:3.9473684210526314\n",
      "PROBLEM INFEASIBLE at :310, a:4.2105263157894735, b:4.2105263157894735\n",
      "PROBLEM INFEASIBLE at :310, a:4.2105263157894735, b:4.473684210526316\n",
      "PROBLEM INFEASIBLE at :310, a:4.2105263157894735, b:4.7368421052631575\n",
      "PROBLEM INFEASIBLE at :310, a:4.2105263157894735, b:5.0\n",
      "PROBLEM INFEASIBLE at :11, a:4.473684210526316, b:0.0\n",
      "PROBLEM INFEASIBLE at :86, a:4.473684210526316, b:0.2631578947368421\n",
      "PROBLEM INFEASIBLE at :234, a:4.473684210526316, b:0.5263157894736842\n",
      "PROBLEM INFEASIBLE at :286, a:4.473684210526316, b:0.7894736842105263\n",
      "PROBLEM INFEASIBLE at :302, a:4.473684210526316, b:1.0526315789473684\n",
      "PROBLEM INFEASIBLE at :308, a:4.473684210526316, b:1.3157894736842104\n",
      "PROBLEM INFEASIBLE at :310, a:4.473684210526316, b:1.5789473684210527\n",
      "PROBLEM INFEASIBLE at :311, a:4.473684210526316, b:1.8421052631578947\n",
      "PROBLEM INFEASIBLE at :311, a:4.473684210526316, b:2.1052631578947367\n",
      "PROBLEM INFEASIBLE at :311, a:4.473684210526316, b:2.3684210526315788\n",
      "PROBLEM INFEASIBLE at :311, a:4.473684210526316, b:2.631578947368421\n",
      "PROBLEM INFEASIBLE at :311, a:4.473684210526316, b:2.894736842105263\n",
      "PROBLEM INFEASIBLE at :311, a:4.473684210526316, b:3.1578947368421053\n",
      "PROBLEM INFEASIBLE at :311, a:4.473684210526316, b:3.4210526315789473\n",
      "PROBLEM INFEASIBLE at :311, a:4.473684210526316, b:3.6842105263157894\n",
      "PROBLEM INFEASIBLE at :311, a:4.473684210526316, b:3.9473684210526314\n",
      "PROBLEM INFEASIBLE at :311, a:4.473684210526316, b:4.2105263157894735\n",
      "PROBLEM INFEASIBLE at :311, a:4.473684210526316, b:4.473684210526316\n",
      "PROBLEM INFEASIBLE at :311, a:4.473684210526316, b:4.7368421052631575\n",
      "PROBLEM INFEASIBLE at :311, a:4.473684210526316, b:5.0\n",
      "PROBLEM INFEASIBLE at :13, a:4.7368421052631575, b:0.0\n",
      "PROBLEM INFEASIBLE at :87, a:4.7368421052631575, b:0.2631578947368421\n"
     ]
    },
    {
     "name": "stdout",
     "output_type": "stream",
     "text": [
      "PROBLEM INFEASIBLE at :236, a:4.7368421052631575, b:0.5263157894736842\n",
      "PROBLEM INFEASIBLE at :287, a:4.7368421052631575, b:0.7894736842105263\n",
      "PROBLEM INFEASIBLE at :303, a:4.7368421052631575, b:1.0526315789473684\n",
      "PROBLEM INFEASIBLE at :309, a:4.7368421052631575, b:1.3157894736842104\n",
      "PROBLEM INFEASIBLE at :311, a:4.7368421052631575, b:1.5789473684210527\n",
      "PROBLEM INFEASIBLE at :312, a:4.7368421052631575, b:1.8421052631578947\n",
      "PROBLEM INFEASIBLE at :313, a:4.7368421052631575, b:2.1052631578947367\n",
      "PROBLEM INFEASIBLE at :313, a:4.7368421052631575, b:2.3684210526315788\n",
      "PROBLEM INFEASIBLE at :313, a:4.7368421052631575, b:2.631578947368421\n",
      "PROBLEM INFEASIBLE at :313, a:4.7368421052631575, b:2.894736842105263\n",
      "PROBLEM INFEASIBLE at :313, a:4.7368421052631575, b:3.1578947368421053\n",
      "PROBLEM INFEASIBLE at :313, a:4.7368421052631575, b:3.4210526315789473\n",
      "PROBLEM INFEASIBLE at :313, a:4.7368421052631575, b:3.6842105263157894\n",
      "PROBLEM INFEASIBLE at :313, a:4.7368421052631575, b:3.9473684210526314\n",
      "PROBLEM INFEASIBLE at :313, a:4.7368421052631575, b:4.2105263157894735\n",
      "PROBLEM INFEASIBLE at :313, a:4.7368421052631575, b:4.473684210526316\n",
      "PROBLEM INFEASIBLE at :313, a:4.7368421052631575, b:4.7368421052631575\n",
      "PROBLEM INFEASIBLE at :313, a:4.7368421052631575, b:5.0\n",
      "PROBLEM INFEASIBLE at :14, a:5.0, b:0.0\n",
      "PROBLEM INFEASIBLE at :88, a:5.0, b:0.2631578947368421\n",
      "PROBLEM INFEASIBLE at :237, a:5.0, b:0.5263157894736842\n",
      "PROBLEM INFEASIBLE at :288, a:5.0, b:0.7894736842105263\n",
      "PROBLEM INFEASIBLE at :304, a:5.0, b:1.0526315789473684\n",
      "PROBLEM INFEASIBLE at :310, a:5.0, b:1.3157894736842104\n",
      "PROBLEM INFEASIBLE at :312, a:5.0, b:1.5789473684210527\n",
      "PROBLEM INFEASIBLE at :313, a:5.0, b:1.8421052631578947\n",
      "PROBLEM INFEASIBLE at :314, a:5.0, b:2.1052631578947367\n",
      "PROBLEM INFEASIBLE at :314, a:5.0, b:2.3684210526315788\n",
      "PROBLEM INFEASIBLE at :314, a:5.0, b:2.631578947368421\n",
      "PROBLEM INFEASIBLE at :314, a:5.0, b:2.894736842105263\n",
      "PROBLEM INFEASIBLE at :314, a:5.0, b:3.1578947368421053\n",
      "PROBLEM INFEASIBLE at :314, a:5.0, b:3.4210526315789473\n",
      "PROBLEM INFEASIBLE at :314, a:5.0, b:3.6842105263157894\n",
      "PROBLEM INFEASIBLE at :314, a:5.0, b:3.9473684210526314\n",
      "PROBLEM INFEASIBLE at :314, a:5.0, b:4.2105263157894735\n",
      "PROBLEM INFEASIBLE at :314, a:5.0, b:4.473684210526316\n",
      "PROBLEM INFEASIBLE at :314, a:5.0, b:4.7368421052631575\n",
      "PROBLEM INFEASIBLE at :314, a:5.0, b:5.0\n",
      "DONE\n"
     ]
    }
   ],
   "source": [
    "nsize = 20\n",
    "x0 = 0.1\n",
    "c = 0.7\n",
    "A = np.linspace(0,5,nsize)\n",
    "B = np.linspace(0,5,nsize)\n",
    "horizons = np.zeros((nsize,nsize))\n",
    "for i in range(nsize):\n",
    "    for j in range(nsize):\n",
    "        time_till_infeasibility , _, _ = simulate_simple(x0,A[i],B[j],c)\n",
    "        horizons[i,j] = time_till_infeasibility\n",
    "print(\"DONE\")"
   ]
  },
  {
   "cell_type": "code",
   "execution_count": 6,
   "id": "67cb191d",
   "metadata": {},
   "outputs": [
    {
     "data": {
      "image/png": "[encoded data removed]",
      "text/plain": [
       "<Figure size 432x288 with 2 Axes>"
      ]
     },
     "metadata": {
      "needs_background": "light"
     },
     "output_type": "display_data"
    }
   ],
   "source": [
    "c = 0.7\n",
    "fig2, ax2 = plt.subplots(1)\n",
    "pos = ax2.imshow(horizons/(1.0/(1-c)),cmap='RdBu', interpolation='bilinear',extent=[0,5,5,0], vmin=0, vmax=100)\n",
    "fig2.colorbar(pos, ax=ax2, label='Time Steps to infeasibility')\n",
    "ax2.set_ylabel(\"a\")\n",
    "ax2.set_xlabel(\"b\")\n",
    "plt.show()"
   ]
  },
  {
   "cell_type": "code",
   "execution_count": null,
   "id": "b5a58ece",
   "metadata": {},
   "outputs": [],
   "source": []
  }
 ],
 "metadata": {
  "kernelspec": {
   "display_name": "Python 3",
   "language": "python",
   "name": "python3"
  },
  "language_info": {
   "codemirror_mode": {
    "name": "ipython",
    "version": 3
   },
   "file_extension": ".py",
   "mimetype": "text/x-python",
   "name": "python",
   "nbconvert_exporter": "python",
   "pygments_lexer": "ipython3",
   "version": "3.6.15"
  }
 },
 "nbformat": 4,
 "nbformat_minor": 5
}
