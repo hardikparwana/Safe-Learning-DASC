{
 "cells": [
  {
   "cell_type": "code",
   "execution_count": 2,
   "id": "a2182158",
   "metadata": {},
   "outputs": [],
   "source": [
    "import torch\n",
    "import numpy as np"
   ]
  },
  {
   "cell_type": "code",
   "execution_count": 160,
   "id": "c6a259c6",
   "metadata": {},
   "outputs": [
    {
     "name": "stdout",
     "output_type": "stream",
     "text": [
      "Is DPP?  True\n",
      "Is DCP?  True\n"
     ]
    }
   ],
   "source": [
    "import cvxpy as cp\n",
    "\n",
    "\n",
    "x = cp.Variable()\n",
    "y = cp.Variable()\n",
    "gamma = cp.Parameter(nonneg=True)\n",
    "problem = cp.Problem(cp.Minimize(gamma * y), [y == gamma * x])\n",
    "print(\"Is DPP? \", problem.is_dcp(dpp=True))\n",
    "print(\"Is DCP? \", problem.is_dcp(dpp=False))"
   ]
  },
  {
   "cell_type": "code",
   "execution_count": 166,
   "id": "5f8111ae",
   "metadata": {},
   "outputs": [
    {
     "name": "stdout",
     "output_type": "stream",
     "text": [
      "tensor([[-1.]])\n"
     ]
    }
   ],
   "source": [
    "a = torch.tensor([[1],[2]])\n",
    "b = torch.tensor([[0]])\n",
    "torch.cat((a,b),0).T\n",
    "print(b - 1.0)"
   ]
  },
  {
   "cell_type": "code",
   "execution_count": 155,
   "id": "933b6efc",
   "metadata": {},
   "outputs": [],
   "source": [
    "class dynamics(torch.autograd.Function):\n",
    "    \n",
    "    @staticmethod\n",
    "    def forward(ctx, input):\n",
    "        ctx.save_for_backward(input)\n",
    "        # x_{t+1} = f(x_t) + g(x_t)u_t\n",
    "        x = input[0:2,0]\n",
    "        u = input[2:4,0]\n",
    "        fx = x\n",
    "        gx = torch.tensor([[1,0],[0,1]],dtype=torch.float)\n",
    "        return fx + torch.matmul(gx, u)\n",
    "    \n",
    "    @staticmethod\n",
    "    def backward(ctx, grad_output):\n",
    "        print(\"hello\")\n",
    "        input, = ctx.saved_tensors\n",
    "#         grad_input = grad_output.clone()\n",
    "        input, = ctx.saved_tensors\n",
    "        x = input[0:2].detach().numpy()\n",
    "        u = input[2:4].detach().numpy()\n",
    "        gx = np.array([[1,0],[0,1]])\n",
    "        gxu = np.array([[1,0],[0,1]]) @ u\n",
    "        df_dx =  np.array([[1,0],[0,1]])\n",
    "        dgxu_dx = np.array([[0,0],[0,0]])\n",
    "#         print(dg_dx)\n",
    "        print(u)\n",
    "        gradient = torch.tensor(np.append(df_dx+dgxu_dx, gx, axis=1),dtype=torch.float)\n",
    "#         print(\"gradient\",gradient.size())\n",
    "#         print(\"grad_output\",grad_output.size())\n",
    "#         print(\"grad_output\",grad_output)\n",
    "        return torch.reshape(torch.matmul(torch.reshape(grad_output,(1,2)),gradient),(4,1))\n",
    "        "
   ]
  },
  {
   "cell_type": "code",
   "execution_count": 159,
   "id": "10195a76",
   "metadata": {},
   "outputs": [
    {
     "name": "stdout",
     "output_type": "stream",
     "text": [
      "tensor([6., 3.], grad_fn=<dynamicsBackward>)\n",
      "[3.  1.5]\n",
      "loss tensor(4.5000, grad_fn=<SumBackward0>)\n",
      "hello\n",
      "[[5.]\n",
      " [2.]]\n",
      "tensor([[0.5000],\n",
      "        [0.5000],\n",
      "        [0.5000],\n",
      "        [0.5000]])\n"
     ]
    }
   ],
   "source": [
    "dtype = torch.float\n",
    "device = torch.device(\"cpu\")\n",
    "\n",
    "dynam = dynamics.apply\n",
    "x = np.array([1,1]).reshape(-1,1)\n",
    "u = np.array([5,2]).reshape(-1,1)\n",
    "input = torch.tensor(np.append(x,u,axis=0),dtype=dtype, requires_grad=True)\n",
    "y_pred = dynam(input)\n",
    "print(y_pred)\n",
    "# loss = y_pred.sum()\n",
    "# loss.backward()\n",
    "# print(input.grad)\n",
    "# print(\"xx\",np.shape(x))\n",
    "\n",
    "import cvxpy as cp\n",
    "from cvxpylayers.torch import CvxpyLayer\n",
    "\n",
    "x = cp.Variable(2)\n",
    "y = cp.Parameter(2)\n",
    "objective = cp.Minimize(0.5*cp.norm(x-y/2))\n",
    "const = [x[0]<=10]\n",
    "problem = cp.Problem(objective, const)\n",
    "assert problem.is_dpp()\n",
    "# print(problem.parameters())\n",
    "\n",
    "cvxpylayer = CvxpyLayer(problem, parameters=[y], variables=[x])\n",
    "# this is just y_pred, a_tch = torch.tensor(a.value, requires_grad=True, dtype=torch.float)\n",
    "\n",
    "# solve the problem\n",
    "solution, = cvxpylayer(y_pred)\n",
    "\n",
    "print(solution.detach().numpy())\n",
    "loss = solution.sum()\n",
    "print(\"loss\",loss)\n",
    "loss.backward()\n",
    "print(input.grad)"
   ]
  },
  {
   "cell_type": "code",
   "execution_count": 143,
   "id": "6c58024f",
   "metadata": {},
   "outputs": [
    {
     "name": "stdout",
     "output_type": "stream",
     "text": [
      "[Parameter((2, 1)), Parameter((2, 1))]\n",
      "[[-2.]\n",
      " [-2.]]\n",
      "tensor([[-2.],\n",
      "        [-2.]], grad_fn=<_CvxpyLayerFnFnBackward>)\n",
      "u1 tensor([-2.], grad_fn=<SqueezeBackward3>)\n",
      "a grad  [[-1.7689322e-13]\n",
      " [-1.7699470e-13]]\n",
      "c grad  [[1.0000000e+00]\n",
      " [1.5122192e-13]]\n",
      "u2 tensor([-2.], grad_fn=<SqueezeBackward3>)\n",
      "0.027474641799926758\n",
      "a grad  [[-3.5071859e-13 -3.5079405e-13]]\n",
      "c grad  [[1.]\n",
      " [1.]]\n",
      "c_prev [[1.0000000e+00]\n",
      " [1.5122192e-13]]\n",
      "c grad diff [[0.]\n",
      " [1.]]\n"
     ]
    }
   ],
   "source": [
    "import time\n",
    "import cvxpy as cp\n",
    "import numpy as np\n",
    "from cvxpylayers.torch import CvxpyLayer\n",
    "import torch\n",
    "x = cp.Variable((2,1))\n",
    "a = cp.Parameter((2,1),value=np.array([[.5],[.5]]))\n",
    "c = cp.Parameter((2,1),value=np.array([[-2],[-2]]))\n",
    "const = [x<=c]\n",
    "s = time.time()\n",
    "objective = cp.Minimize(0.5*cp.norm(x-a))\n",
    "problem = cp.Problem(objective, const)\n",
    "assert problem.is_dpp()\n",
    "print(problem.parameters())\n",
    "\n",
    "cvxpylayer = CvxpyLayer(problem, parameters=[a, c], variables=[x])\n",
    "a_tch = torch.tensor(a.value, requires_grad=True, dtype=torch.float)\n",
    "c_tch = torch.tensor(c.value, requires_grad=True, dtype=torch.float)\n",
    "\n",
    "# solve the problem\n",
    "solution, = cvxpylayer(a_tch, c_tch)\n",
    "print(solution.detach().numpy())\n",
    "print(solution)\n",
    "# print(x.value)\n",
    "e1 = torch.tensor(np.array([1.0,0]), dtype=torch.float)\n",
    "e2 = torch.tensor(np.array([0.0,1.0]), dtype=torch.float)\n",
    "\n",
    "# # compute the gradient of the sum of the solution with respect to a, c\n",
    "# solution.sum().backward()\n",
    "u1 = torch.matmul(e1,solution)\n",
    "u2 = torch.matmul(e2,solution)\n",
    "print(\"u1\",u1)\n",
    "\n",
    "u1.backward(retain_graph=True)\n",
    "print(\"a grad \", a_tch.grad.numpy())\n",
    "print(\"c grad \", c_tch.grad.numpy())\n",
    "\n",
    "c_prev = np.copy(c_tch.grad.numpy())\n",
    "\n",
    "\n",
    "print(\"u2\",u2)\n",
    "u2.backward(retain_graph=False)\n",
    "print(time.time()-s)\n",
    "print(\"a grad \", a_tch.grad.numpy().reshape(1,-1))\n",
    "print(\"c grad \", c_tch.grad.numpy())\n",
    "print(\"c_prev\",c_prev)\n",
    "print(\"c grad diff\", c_tch.grad.numpy()-c_prev)\n",
    "# problem.solve()\n",
    "# print(problem.status)\n",
    "# print(x.value)"
   ]
  },
  {
   "cell_type": "code",
   "execution_count": 14,
   "id": "ccfd0bde",
   "metadata": {},
   "outputs": [
    {
     "name": "stdout",
     "output_type": "stream",
     "text": [
      "tensor([[-2.],\n",
      "        [-2.]], grad_fn=<_CvxpyLayerFnFnBackward>)\n"
     ]
    }
   ],
   "source": [
    "print(solution)"
   ]
  },
  {
   "cell_type": "code",
   "execution_count": 15,
   "id": "703ae127",
   "metadata": {},
   "outputs": [],
   "source": [
    "u = torch.tensor(np.array([[1],[1]]),dtype=dtype, requires_grad=True)\n",
    "input = torch.cat((solution,u),axis=0)"
   ]
  },
  {
   "cell_type": "code",
   "execution_count": 16,
   "id": "c5aa2324",
   "metadata": {},
   "outputs": [
    {
     "name": "stdout",
     "output_type": "stream",
     "text": [
      "tensor([-1., -1.], grad_fn=<dynamicsBackward>)\n",
      "hello\n",
      "[[1.]\n",
      " [1.]]\n",
      "gradient torch.Size([2, 4])\n",
      "grad_output torch.Size([2])\n",
      "tensor([[1.],\n",
      "        [1.]])\n"
     ]
    }
   ],
   "source": [
    "y_pred = dynam(input)\n",
    "print(y_pred)\n",
    "loss = y_pred.sum()\n",
    "loss.backward()\n",
    "print(c_tch.grad)"
   ]
  },
  {
   "cell_type": "code",
   "execution_count": 124,
   "id": "0813e67f",
   "metadata": {},
   "outputs": [],
   "source": [
    "a = np.array([0])\n",
    "b = a"
   ]
  },
  {
   "cell_type": "code",
   "execution_count": 125,
   "id": "fb470a7f",
   "metadata": {},
   "outputs": [],
   "source": [
    "b[0]=3"
   ]
  },
  {
   "cell_type": "code",
   "execution_count": 126,
   "id": "bbb9af46",
   "metadata": {},
   "outputs": [
    {
     "data": {
      "text/plain": [
       "array([3])"
      ]
     },
     "execution_count": 126,
     "metadata": {},
     "output_type": "execute_result"
    }
   ],
   "source": [
    "a"
   ]
  },
  {
   "cell_type": "code",
   "execution_count": 127,
   "id": "6c3a4c5d",
   "metadata": {},
   "outputs": [],
   "source": [
    "b = np.copy(a)"
   ]
  },
  {
   "cell_type": "code",
   "execution_count": 128,
   "id": "5fc6ad95",
   "metadata": {},
   "outputs": [],
   "source": [
    "b[0]=5"
   ]
  },
  {
   "cell_type": "code",
   "execution_count": 129,
   "id": "2297adb8",
   "metadata": {},
   "outputs": [
    {
     "data": {
      "text/plain": [
       "array([5])"
      ]
     },
     "execution_count": 129,
     "metadata": {},
     "output_type": "execute_result"
    }
   ],
   "source": [
    "b"
   ]
  },
  {
   "cell_type": "code",
   "execution_count": 107,
   "id": "6000d3aa",
   "metadata": {},
   "outputs": [],
   "source": [
    "class robot:\n",
    "    \n",
    "    def fx(self,x):\n",
    "        return x\n",
    "    \n",
    "    def gx(self,x):\n",
    "        return torch.tensor(np.array([[1,0],[0,1]]),dtype=torch.float);\n",
    "    \n",
    "    def df_dx(self,x, type = 'tensor'):\n",
    "        if type == 'numpy':\n",
    "            return np.array(np.array([[1,0],[0,1]]))\n",
    "        if type == 'tensor':\n",
    "            return torch.tensor([[1,0],[0,1]],dtype=torch.float)\n",
    "        \n",
    "    def dgxu_dx(self,x, type='tensor'):\n",
    "        if type == 'numpy':\n",
    "            return np.array([[0,0],[0,0]])\n",
    "        if type == 'tensor':\n",
    "            return torch.tensor([[0,0],[0,0]],dtype=torch.float)\n",
    "        "
   ]
  },
  {
   "cell_type": "code",
   "execution_count": 139,
   "id": "88d4a4c7",
   "metadata": {},
   "outputs": [],
   "source": [
    "def fx_(x):\n",
    "    return x\n",
    "\n",
    "def gx_(x):\n",
    "    return torch.tensor(np.array([[1,0],[0,1]]),dtype=torch.float);\n",
    "\n",
    "def df_dx_(x, type = 'tensor'):\n",
    "    if type == 'numpy':\n",
    "        return np.array(np.array([[1,0],[0,1]]))\n",
    "    if type == 'tensor':\n",
    "        return torch.tensor([[1,0],[0,1]],dtype=torch.float)\n",
    "    \n",
    "def dgxu_dx_(x, type='tensor'):\n",
    "    if type == 'numpy':\n",
    "        return np.array([[0,0],[0,0]])\n",
    "    if type == 'tensor':\n",
    "        return torch.tensor([[0,0],[0,0]],dtype=torch.float)"
   ]
  },
  {
   "cell_type": "code",
   "execution_count": 134,
   "id": "4d964d1d",
   "metadata": {},
   "outputs": [],
   "source": [
    "class torch_dynamics(torch.autograd.Function):\n",
    "    \n",
    "    def __init__(self, robot):\n",
    "        self.robot = robot\n",
    "\n",
    "    @staticmethod\n",
    "    def forward(ctx, input_x, input_u, robot):\n",
    "#         ctx.save_for_backward(input)\n",
    "        # x_{t+1} = f(x_t) + g(x_t)u_t\n",
    "        x = input_x\n",
    "        u = input_u\n",
    "        fx = robot.fx(x)  #tensor\n",
    "        gx = robot.gx(x)  #tensor\n",
    "        \n",
    "#         gxu = torch.tensor(robot.gx(x).detach().numpy() @ u.detach().numpy()),dtype=torch.float)\n",
    "        gxu = torch.matmul(gx, u)\n",
    "        df_dx =  robot.df_dx(x) # numpy\n",
    "        dgxu_dx = robot.dgxu_dx(x)  # numpy\n",
    "        \n",
    "        print(gx, gxu, df_dx, dgxu_dx)\n",
    "        \n",
    "        ctx.save_for_backward(x,u, gx, gxu, df_dx, dgxu_dx)\n",
    "\n",
    "        return fx + torch.matmul(gx, u)\n",
    "\n",
    "    @staticmethod\n",
    "    def backward(ctx, grad_output):\n",
    "\n",
    "        input_x, input_u, gx, gxu, df_dx, dgxu_dx, = ctx.saved_tensors\n",
    "        x = input_x.detach().numpy()\n",
    "        u = input_u.detach().numpy()\n",
    "        \n",
    "        print(grad_output)\n",
    "        \n",
    "        gradient = torch.tensor(np.append(df_dx+dgxu_dx, gx, axis=1),dtype=torch.float)\n",
    "        print(\"gradient\",gradient.size())\n",
    "        print(\"hello\")\n",
    "        print(\"grad_output\",grad_output.size())\n",
    "        print(\"grad_output\",grad_output)\n",
    "        print( torch.reshape(torch.matmul(torch.reshape(grad_output,(1,2)),gradient),(4,1)) )\n",
    "        return torch.reshape(torch.matmul(torch.reshape(grad_output,(1,2)),gradient),(4,1))"
   ]
  },
  {
   "cell_type": "code",
   "execution_count": 136,
   "id": "8dd975ee",
   "metadata": {},
   "outputs": [
    {
     "name": "stdout",
     "output_type": "stream",
     "text": [
      "tensor([[1., 0.],\n",
      "        [0., 1.]]) tensor([[3.],\n",
      "        [2.]]) tensor([[1., 0.],\n",
      "        [0., 1.]]) tensor([[0., 0.],\n",
      "        [0., 0.]])\n",
      "tensor([[4.],\n",
      "        [3.]], grad_fn=<torch_dynamicsBackward>)\n",
      "tensor([[1.],\n",
      "        [1.]])\n",
      "gradient torch.Size([2, 4])\n",
      "hello\n",
      "grad_output torch.Size([2, 1])\n",
      "grad_output tensor([[1.],\n",
      "        [1.]])\n",
      "tensor([[1.],\n",
      "        [1.],\n",
      "        [1.],\n",
      "        [1.]])\n"
     ]
    },
    {
     "ename": "RuntimeError",
     "evalue": "function torch_dynamicsBackward returned an incorrect number of gradients (expected 3, got 1)",
     "output_type": "error",
     "traceback": [
      "\u001b[0;31m---------------------------------------------------------------------------\u001b[0m",
      "\u001b[0;31mRuntimeError\u001b[0m                              Traceback (most recent call last)",
      "\u001b[0;32m<ipython-input-136-241ea985168d>\u001b[0m in \u001b[0;36m<module>\u001b[0;34m\u001b[0m\n\u001b[1;32m     11\u001b[0m \u001b[0mprint\u001b[0m\u001b[0;34m(\u001b[0m\u001b[0my_pred\u001b[0m\u001b[0;34m)\u001b[0m\u001b[0;34m\u001b[0m\u001b[0;34m\u001b[0m\u001b[0m\n\u001b[1;32m     12\u001b[0m \u001b[0mloss\u001b[0m \u001b[0;34m=\u001b[0m \u001b[0my_pred\u001b[0m\u001b[0;34m.\u001b[0m\u001b[0msum\u001b[0m\u001b[0;34m(\u001b[0m\u001b[0;34m)\u001b[0m\u001b[0;34m\u001b[0m\u001b[0;34m\u001b[0m\u001b[0m\n\u001b[0;32m---> 13\u001b[0;31m \u001b[0mloss\u001b[0m\u001b[0;34m.\u001b[0m\u001b[0mbackward\u001b[0m\u001b[0;34m(\u001b[0m\u001b[0;34m)\u001b[0m\u001b[0;34m\u001b[0m\u001b[0;34m\u001b[0m\u001b[0m\n\u001b[0m\u001b[1;32m     14\u001b[0m \u001b[0mprint\u001b[0m\u001b[0;34m(\u001b[0m\u001b[0minput\u001b[0m\u001b[0;34m.\u001b[0m\u001b[0mgrad\u001b[0m\u001b[0;34m)\u001b[0m\u001b[0;34m\u001b[0m\u001b[0;34m\u001b[0m\u001b[0m\n\u001b[1;32m     15\u001b[0m \u001b[0;34m\u001b[0m\u001b[0m\n",
      "\u001b[0;32m~/Desktop/Research/Safe-Learning-DASC/venv_sl_dasc/lib/python3.6/site-packages/torch/_tensor.py\u001b[0m in \u001b[0;36mbackward\u001b[0;34m(self, gradient, retain_graph, create_graph, inputs)\u001b[0m\n\u001b[1;32m    253\u001b[0m                 \u001b[0mcreate_graph\u001b[0m\u001b[0;34m=\u001b[0m\u001b[0mcreate_graph\u001b[0m\u001b[0;34m,\u001b[0m\u001b[0;34m\u001b[0m\u001b[0;34m\u001b[0m\u001b[0m\n\u001b[1;32m    254\u001b[0m                 inputs=inputs)\n\u001b[0;32m--> 255\u001b[0;31m         \u001b[0mtorch\u001b[0m\u001b[0;34m.\u001b[0m\u001b[0mautograd\u001b[0m\u001b[0;34m.\u001b[0m\u001b[0mbackward\u001b[0m\u001b[0;34m(\u001b[0m\u001b[0mself\u001b[0m\u001b[0;34m,\u001b[0m \u001b[0mgradient\u001b[0m\u001b[0;34m,\u001b[0m \u001b[0mretain_graph\u001b[0m\u001b[0;34m,\u001b[0m \u001b[0mcreate_graph\u001b[0m\u001b[0;34m,\u001b[0m \u001b[0minputs\u001b[0m\u001b[0;34m=\u001b[0m\u001b[0minputs\u001b[0m\u001b[0;34m)\u001b[0m\u001b[0;34m\u001b[0m\u001b[0;34m\u001b[0m\u001b[0m\n\u001b[0m\u001b[1;32m    256\u001b[0m \u001b[0;34m\u001b[0m\u001b[0m\n\u001b[1;32m    257\u001b[0m     \u001b[0;32mdef\u001b[0m \u001b[0mregister_hook\u001b[0m\u001b[0;34m(\u001b[0m\u001b[0mself\u001b[0m\u001b[0;34m,\u001b[0m \u001b[0mhook\u001b[0m\u001b[0;34m)\u001b[0m\u001b[0;34m:\u001b[0m\u001b[0;34m\u001b[0m\u001b[0;34m\u001b[0m\u001b[0m\n",
      "\u001b[0;32m~/Desktop/Research/Safe-Learning-DASC/venv_sl_dasc/lib/python3.6/site-packages/torch/autograd/__init__.py\u001b[0m in \u001b[0;36mbackward\u001b[0;34m(tensors, grad_tensors, retain_graph, create_graph, grad_variables, inputs)\u001b[0m\n\u001b[1;32m    147\u001b[0m     Variable._execution_engine.run_backward(\n\u001b[1;32m    148\u001b[0m         \u001b[0mtensors\u001b[0m\u001b[0;34m,\u001b[0m \u001b[0mgrad_tensors_\u001b[0m\u001b[0;34m,\u001b[0m \u001b[0mretain_graph\u001b[0m\u001b[0;34m,\u001b[0m \u001b[0mcreate_graph\u001b[0m\u001b[0;34m,\u001b[0m \u001b[0minputs\u001b[0m\u001b[0;34m,\u001b[0m\u001b[0;34m\u001b[0m\u001b[0;34m\u001b[0m\u001b[0m\n\u001b[0;32m--> 149\u001b[0;31m         allow_unreachable=True, accumulate_grad=True)  # allow_unreachable flag\n\u001b[0m\u001b[1;32m    150\u001b[0m \u001b[0;34m\u001b[0m\u001b[0m\n\u001b[1;32m    151\u001b[0m \u001b[0;34m\u001b[0m\u001b[0m\n",
      "\u001b[0;31mRuntimeError\u001b[0m: function torch_dynamicsBackward returned an incorrect number of gradients (expected 3, got 1)"
     ]
    }
   ],
   "source": [
    "dtype = torch.float\n",
    "device = torch.device(\"cpu\")\n",
    "\n",
    "rob = robot()\n",
    "\n",
    "dynam = torch_dynamics.apply\n",
    "x = torch.tensor(np.array([1,1]).reshape(-1,1),dtype=dtype, requires_grad=True)\n",
    "u = torch.tensor(np.array([3,2]).reshape(-1,1),dtype=dtype, requires_grad=True)\n",
    "# input = torch.tensor(np.append(x,u,axis=0),dtype=dtype, requires_grad=True)\n",
    "y_pred = dynam(x,u, rob)\n",
    "print(y_pred)\n",
    "loss = y_pred.sum()\n",
    "loss.backward()\n",
    "print(input.grad)\n",
    "\n",
    "xx = x.detach().numpy()\n",
    "print(np.shape(xx))"
   ]
  },
  {
   "cell_type": "code",
   "execution_count": null,
   "id": "5d55ccef",
   "metadata": {},
   "outputs": [],
   "source": []
  },
  {
   "cell_type": "code",
   "execution_count": null,
   "id": "54208811",
   "metadata": {},
   "outputs": [],
   "source": []
  }
 ],
 "metadata": {
  "kernelspec": {
   "display_name": "Python 3",
   "language": "python",
   "name": "python3"
  },
  "language_info": {
   "codemirror_mode": {
    "name": "ipython",
    "version": 3
   },
   "file_extension": ".py",
   "mimetype": "text/x-python",
   "name": "python",
   "nbconvert_exporter": "python",
   "pygments_lexer": "ipython3",
   "version": "3.6.14"
  }
 },
 "nbformat": 4,
 "nbformat_minor": 5
}
