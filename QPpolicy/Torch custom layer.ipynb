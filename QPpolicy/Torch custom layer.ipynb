{
 "cells": [
  {
   "cell_type": "code",
   "execution_count": null,
   "id": "a2182158",
   "metadata": {},
   "outputs": [],
   "source": [
    "import torch\n",
    "import numpy as np"
   ]
  },
  {
   "cell_type": "code",
   "execution_count": null,
   "id": "c6a259c6",
   "metadata": {},
   "outputs": [],
   "source": [
    "import cvxpy as cp\n",
    "\n",
    "\n",
    "x = cp.Variable()\n",
    "y = cp.Variable()\n",
    "gamma = cp.Parameter(nonneg=True)\n",
    "problem = cp.Problem(cp.Minimize(gamma * y), [y == gamma * x])\n",
    "print(\"Is DPP? \", problem.is_dcp(dpp=True))\n",
    "print(\"Is DCP? \", problem.is_dcp(dpp=False))"
   ]
  },
  {
   "cell_type": "code",
   "execution_count": null,
   "id": "5f8111ae",
   "metadata": {},
   "outputs": [],
   "source": [
    "a = torch.tensor([[1],[2]])\n",
    "b = torch.tensor([[0]])\n",
    "torch.cat((a,b),0).T\n",
    "print(b - 1.0)"
   ]
  },
  {
   "cell_type": "code",
   "execution_count": null,
   "id": "933b6efc",
   "metadata": {},
   "outputs": [],
   "source": [
    "class dynamics(torch.autograd.Function):\n",
    "    \n",
    "    @staticmethod\n",
    "    def forward(ctx, input):\n",
    "        ctx.save_for_backward(input)\n",
    "        # x_{t+1} = f(x_t) + g(x_t)u_t\n",
    "        x = input[0:2,0]\n",
    "        u = input[2:4,0]\n",
    "        fx = x\n",
    "        gx = torch.tensor([[1,0],[0,1]],dtype=torch.float)\n",
    "        return fx + torch.matmul(gx, u)\n",
    "    \n",
    "    @staticmethod\n",
    "    def backward(ctx, grad_output):\n",
    "        print(\"hello\")\n",
    "        input, = ctx.saved_tensors\n",
    "#         grad_input = grad_output.clone()\n",
    "        input, = ctx.saved_tensors\n",
    "        x = input[0:2].detach().numpy()\n",
    "        u = input[2:4].detach().numpy()\n",
    "        gx = np.array([[1,0],[0,1]])\n",
    "        gxu = np.array([[1,0],[0,1]]) @ u\n",
    "        df_dx =  np.array([[1,0],[0,1]])\n",
    "        dgxu_dx = np.array([[0,0],[0,0]])\n",
    "#         print(dg_dx)\n",
    "        print(u)\n",
    "        gradient = torch.tensor(np.append(df_dx+dgxu_dx, gx, axis=1),dtype=torch.float)\n",
    "#         print(\"gradient\",gradient.size())\n",
    "#         print(\"grad_output\",grad_output.size())\n",
    "#         print(\"grad_output\",grad_output)\n",
    "        return torch.reshape(torch.matmul(torch.reshape(grad_output,(1,2)),gradient),(4,1))\n",
    "        "
   ]
  },
  {
   "cell_type": "code",
   "execution_count": null,
   "id": "10195a76",
   "metadata": {},
   "outputs": [],
   "source": [
    "dtype = torch.float\n",
    "device = torch.device(\"cpu\")\n",
    "\n",
    "dynam = dynamics.apply\n",
    "x = np.array([1,1]).reshape(-1,1)\n",
    "u = np.array([5,2]).reshape(-1,1)\n",
    "input = torch.tensor(np.append(x,u,axis=0),dtype=dtype, requires_grad=True)\n",
    "y_pred = dynam(input)\n",
    "print(y_pred)\n",
    "# loss = y_pred.sum()\n",
    "# loss.backward()\n",
    "# print(input.grad)\n",
    "# print(\"xx\",np.shape(x))\n",
    "\n",
    "import cvxpy as cp\n",
    "from cvxpylayers.torch import CvxpyLayer\n",
    "\n",
    "x = cp.Variable(2)\n",
    "y = cp.Parameter(2)\n",
    "objective = cp.Minimize(0.5*cp.norm(x-y/2))\n",
    "const = [x[0]<=10]\n",
    "problem = cp.Problem(objective, const)\n",
    "assert problem.is_dpp()\n",
    "# print(problem.parameters())\n",
    "\n",
    "cvxpylayer = CvxpyLayer(problem, parameters=[y], variables=[x])\n",
    "# this is just y_pred, a_tch = torch.tensor(a.value, requires_grad=True, dtype=torch.float)\n",
    "\n",
    "# solve the problem\n",
    "solution, = cvxpylayer(y_pred)\n",
    "\n",
    "print(solution.detach().numpy())\n",
    "loss = solution.sum()\n",
    "print(\"loss\",loss)\n",
    "loss.backward()\n",
    "print(input.grad)"
   ]
  },
  {
   "cell_type": "code",
   "execution_count": null,
   "id": "6c58024f",
   "metadata": {},
   "outputs": [],
   "source": [
    "import time\n",
    "import cvxpy as cp\n",
    "import numpy as np\n",
    "from cvxpylayers.torch import CvxpyLayer\n",
    "import torch\n",
    "x = cp.Variable((2,1))\n",
    "a = cp.Parameter((2,1),value=np.array([[.5],[.5]]))\n",
    "c = cp.Parameter((2,1),value=np.array([[-2],[-2]]))\n",
    "const = [x<=c]\n",
    "s = time.time()\n",
    "objective = cp.Minimize(0.5*cp.norm(x-a))\n",
    "problem = cp.Problem(objective, const)\n",
    "assert problem.is_dpp()\n",
    "print(problem.parameters())\n",
    "\n",
    "cvxpylayer = CvxpyLayer(problem, parameters=[a, c], variables=[x])\n",
    "a_tch = torch.tensor(a.value, requires_grad=True, dtype=torch.float)\n",
    "c_tch = torch.tensor(c.value, requires_grad=True, dtype=torch.float)\n",
    "\n",
    "# solve the problem\n",
    "solution, = cvxpylayer(a_tch, c_tch)\n",
    "print(solution.detach().numpy())\n",
    "print(solution)\n",
    "# print(x.value)\n",
    "e1 = torch.tensor(np.array([1.0,0]), dtype=torch.float)\n",
    "e2 = torch.tensor(np.array([0.0,1.0]), dtype=torch.float)\n",
    "\n",
    "# # compute the gradient of the sum of the solution with respect to a, c\n",
    "# solution.sum().backward()\n",
    "u1 = torch.matmul(e1,solution)\n",
    "u2 = torch.matmul(e2,solution)\n",
    "print(\"u1\",u1)\n",
    "\n",
    "u1.backward(retain_graph=True)\n",
    "print(\"a grad \", a_tch.grad.numpy())\n",
    "print(\"c grad \", c_tch.grad.numpy())\n",
    "\n",
    "c_prev = np.copy(c_tch.grad.numpy())\n",
    "\n",
    "\n",
    "print(\"u2\",u2)\n",
    "u2.backward(retain_graph=False)\n",
    "print(time.time()-s)\n",
    "print(\"a grad \", a_tch.grad.numpy().reshape(1,-1))\n",
    "print(\"c grad \", c_tch.grad.numpy())\n",
    "print(\"c_prev\",c_prev)\n",
    "print(\"c grad diff\", c_tch.grad.numpy()-c_prev)\n",
    "# problem.solve()\n",
    "# print(problem.status)\n",
    "# print(x.value)"
   ]
  },
  {
   "cell_type": "code",
   "execution_count": null,
   "id": "ccfd0bde",
   "metadata": {},
   "outputs": [],
   "source": [
    "print(solution)"
   ]
  },
  {
   "cell_type": "code",
   "execution_count": null,
   "id": "703ae127",
   "metadata": {},
   "outputs": [],
   "source": [
    "u = torch.tensor(np.array([[1],[1]]),dtype=dtype, requires_grad=True)\n",
    "input = torch.cat((solution,u),axis=0)"
   ]
  },
  {
   "cell_type": "code",
   "execution_count": null,
   "id": "c5aa2324",
   "metadata": {},
   "outputs": [],
   "source": [
    "y_pred = dynam(input)\n",
    "print(y_pred)\n",
    "loss = y_pred.sum()\n",
    "loss.backward()\n",
    "print(c_tch.grad)"
   ]
  },
  {
   "cell_type": "code",
   "execution_count": null,
   "id": "0813e67f",
   "metadata": {},
   "outputs": [],
   "source": [
    "a = np.array([0])\n",
    "b = a"
   ]
  },
  {
   "cell_type": "code",
   "execution_count": null,
   "id": "fb470a7f",
   "metadata": {},
   "outputs": [],
   "source": [
    "b[0]=3"
   ]
  },
  {
   "cell_type": "code",
   "execution_count": null,
   "id": "bbb9af46",
   "metadata": {},
   "outputs": [],
   "source": [
    "a"
   ]
  },
  {
   "cell_type": "code",
   "execution_count": null,
   "id": "6c3a4c5d",
   "metadata": {},
   "outputs": [],
   "source": [
    "b = np.copy(a)"
   ]
  },
  {
   "cell_type": "code",
   "execution_count": null,
   "id": "5fc6ad95",
   "metadata": {},
   "outputs": [],
   "source": [
    "b[0]=5"
   ]
  },
  {
   "cell_type": "code",
   "execution_count": null,
   "id": "2297adb8",
   "metadata": {},
   "outputs": [],
   "source": [
    "b"
   ]
  },
  {
   "cell_type": "code",
   "execution_count": null,
   "id": "6000d3aa",
   "metadata": {},
   "outputs": [],
   "source": [
    "class robot:\n",
    "    \n",
    "    def fx(self,x):\n",
    "        return x\n",
    "    \n",
    "    def gx(self,x):\n",
    "        return torch.tensor(np.array([[1,0],[0,1]]),dtype=torch.float);\n",
    "    \n",
    "    def df_dx(self,x, type = 'tensor'):\n",
    "        if type == 'numpy':\n",
    "            return np.array(np.array([[1,0],[0,1]]))\n",
    "        if type == 'tensor':\n",
    "            return torch.tensor([[1,0],[0,1]],dtype=torch.float)\n",
    "        \n",
    "    def dgxu_dx(self,x, type='tensor'):\n",
    "        if type == 'numpy':\n",
    "            return np.array([[0,0],[0,0]])\n",
    "        if type == 'tensor':\n",
    "            return torch.tensor([[0,0],[0,0]],dtype=torch.float)\n",
    "        "
   ]
  },
  {
   "cell_type": "code",
   "execution_count": null,
   "id": "88d4a4c7",
   "metadata": {},
   "outputs": [],
   "source": [
    "def fx_(x):\n",
    "    return x\n",
    "\n",
    "def gx_(x):\n",
    "    return torch.tensor(np.array([[1,0],[0,1]]),dtype=torch.float);\n",
    "\n",
    "def df_dx_(x, type = 'tensor'):\n",
    "    if type == 'numpy':\n",
    "        return np.array(np.array([[1,0],[0,1]]))\n",
    "    if type == 'tensor':\n",
    "        return torch.tensor([[1,0],[0,1]],dtype=torch.float)\n",
    "    \n",
    "def dgxu_dx_(x, type='tensor'):\n",
    "    if type == 'numpy':\n",
    "        return np.array([[0,0],[0,0]])\n",
    "    if type == 'tensor':\n",
    "        return torch.tensor([[0,0],[0,0]],dtype=torch.float)"
   ]
  },
  {
   "cell_type": "code",
   "execution_count": null,
   "id": "4d964d1d",
   "metadata": {},
   "outputs": [],
   "source": [
    "class torch_dynamics(torch.autograd.Function):\n",
    "    \n",
    "    def __init__(self, robot):\n",
    "        self.robot = robot\n",
    "\n",
    "    @staticmethod\n",
    "    def forward(ctx, input_x, input_u, robot):\n",
    "#         ctx.save_for_backward(input)\n",
    "        # x_{t+1} = f(x_t) + g(x_t)u_t\n",
    "        x = input_x\n",
    "        u = input_u\n",
    "        fx = robot.fx(x)  #tensor\n",
    "        gx = robot.gx(x)  #tensor\n",
    "        \n",
    "#         gxu = torch.tensor(robot.gx(x).detach().numpy() @ u.detach().numpy()),dtype=torch.float)\n",
    "        gxu = torch.matmul(gx, u)\n",
    "        df_dx =  robot.df_dx(x) # numpy\n",
    "        dgxu_dx = robot.dgxu_dx(x)  # numpy\n",
    "        \n",
    "        print(gx, gxu, df_dx, dgxu_dx)\n",
    "        \n",
    "        ctx.save_for_backward(x,u, gx, gxu, df_dx, dgxu_dx)\n",
    "\n",
    "        return fx + torch.matmul(gx, u)\n",
    "\n",
    "    @staticmethod\n",
    "    def backward(ctx, grad_output):\n",
    "\n",
    "        input_x, input_u, gx, gxu, df_dx, dgxu_dx, = ctx.saved_tensors\n",
    "        x = input_x.detach().numpy()\n",
    "        u = input_u.detach().numpy()\n",
    "        \n",
    "        print(grad_output)\n",
    "        \n",
    "        gradient = torch.tensor(np.append(df_dx+dgxu_dx, gx, axis=1),dtype=torch.float)\n",
    "        print(\"gradient\",gradient.size())\n",
    "        print(\"hello\")\n",
    "        print(\"grad_output\",grad_output.size())\n",
    "        print(\"grad_output\",grad_output)\n",
    "        print( torch.reshape(torch.matmul(torch.reshape(grad_output,(1,2)),gradient),(4,1)) )\n",
    "        return torch.reshape(torch.matmul(torch.reshape(grad_output,(1,2)),gradient),(4,1))"
   ]
  },
  {
   "cell_type": "code",
   "execution_count": null,
   "id": "8dd975ee",
   "metadata": {},
   "outputs": [],
   "source": [
    "dtype = torch.float\n",
    "device = torch.device(\"cpu\")\n",
    "\n",
    "rob = robot()\n",
    "\n",
    "dynam = torch_dynamics.apply\n",
    "x = torch.tensor(np.array([1,1]).reshape(-1,1),dtype=dtype, requires_grad=True)\n",
    "u = torch.tensor(np.array([3,2]).reshape(-1,1),dtype=dtype, requires_grad=True)\n",
    "# input = torch.tensor(np.append(x,u,axis=0),dtype=dtype, requires_grad=True)\n",
    "y_pred = dynam(x,u, rob)\n",
    "print(y_pred)\n",
    "loss = y_pred.sum()\n",
    "loss.backward()\n",
    "print(input.grad)\n",
    "\n",
    "xx = x.detach().numpy()\n",
    "print(np.shape(xx))"
   ]
  },
  {
   "cell_type": "code",
   "execution_count": 1,
   "id": "5d55ccef",
   "metadata": {},
   "outputs": [],
   "source": [
    "import torch\n",
    "import torch.nn as nn\n",
    "import numpy as np\n",
    "from robot_models.Unicycle2D import *\n",
    "from robot_models.SingleIntegrator import *\n",
    "from dynamics import *\n",
    "import time"
   ]
  },
  {
   "cell_type": "code",
   "execution_count": 5,
   "id": "54208811",
   "metadata": {},
   "outputs": [],
   "source": [
    "dynam = torch_dynamics.apply\n",
    "\n",
    "\n",
    "class closedLoopLayer(nn.Module):\n",
    "\n",
    "    def __init__(self,agent_class,target_class,alpha1,alpha2,alpha3,k):  # pass in unicycle and target here instead of taking it from globla header declarations\n",
    "        super().__init__()\n",
    "\n",
    "        self.agent_nominal_controller = agent_class.nominal_controller_tensor2\n",
    "        self.target_xdot = target_class.xdotTensor\n",
    "\n",
    "        self.CLF_loss_tensor = agent_class.CLF_loss_tensor_simple\n",
    "        self.CBF1_loss_tensor = agent_class.CBF1_loss_tensor_simple\n",
    "        self.CBF2_loss_tensor = agent_class.CBF2_loss_tensor_simple\n",
    "        self.CBF3_loss_tensor = agent_class.CBF3_loss_tensor_simple\n",
    "\n",
    "        self.alpha1_tch = alpha1\n",
    "        self.alpha2_tch = alpha2\n",
    "        self.alpha3_tch = alpha3\n",
    "        self.k_tch = k\n",
    "\n",
    "        self.solver_args = {\n",
    "            'verbose': False,\n",
    "            'max_iters': 1000000\n",
    "        }\n",
    "\n",
    "    def forward(self,x_agent,x_target,u_target):\n",
    "\n",
    "        U_d_ = self.agent_nominal_controller(x_agent,x_target)\n",
    "        target_xdot_ = self.target_xdot(x_target,u_target)  ######################### target.U??\n",
    "\n",
    "        # simplified define tensors for cvx DPP form\n",
    "        V_,dV_dxA_f_, dV_dxA_g_,dV_dxB_temp = self.CLF_loss_tensor(x_agent,x_target)\n",
    "        h1_,dh1_dxA_f_, dh1_dxA_g_,dh1_dxB_temp = self.CBF1_loss_tensor(x_agent,x_target)\n",
    "        h2_,dh2_dxA_f_, dh2_dxA_g_,dh2_dxB_temp = self.CBF2_loss_tensor(x_agent,x_target)\n",
    "        h3_,dh3_dxA_f_, dh3_dxA_g_,dh3_dxB_temp = self.CBF3_loss_tensor(x_agent,x_target)\n",
    "\n",
    "        dV_dxB_target_xdot_ = dV_dxB_temp @ target_xdot_\n",
    "        dh1_dxB_target_xdot_ = dV_dxB_temp @ target_xdot_\n",
    "        dh2_dxB_target_xdot_ = dV_dxB_temp @ target_xdot_\n",
    "        dh3_dxB_target_xdot_ = dV_dxB_temp @ target_xdot_\n",
    "\n",
    "        ah1_ = self.alpha1_tch*h1_  \n",
    "        ah2_ = self.alpha2_tch*h2_  \n",
    "        ah3_ = self.alpha3_tch*h3_  \n",
    "        kV_ = self.k_tch * V_  \n",
    "\n",
    "        # Find the controller\n",
    "        solution, = cvxpylayer(U_d_, ah1_,dh1_dxA_f_, dh1_dxA_g_,dh1_dxB_target_xdot_, ah2_,dh2_dxA_f_, dh2_dxA_g_,dh2_dxB_target_xdot_, ah3_,dh3_dxA_f_, dh3_dxA_g_, dh3_dxB_target_xdot_,  kV_,dV_dxA_f_,dV_dxA_g_ ,dV_dxB_target_xdot_, solver_args=self.solver_args)\n",
    "\n",
    "        # Tensors for constraint derivative\n",
    "        cbf1 = dh1_dxA_f_ + torch.matmul(dh1_dxA_g_, solution) + dh1_dxB_target_xdot_ + ah1_\n",
    "        cbf2 = dh2_dxA_f_ + dh2_dxA_g_ @ solution + dh2_dxB_target_xdot_ + ah2_ \n",
    "        cbf3 = dh3_dxA_f_ + dh3_dxA_g_ @ solution + dh3_dxB_target_xdot_ + ah3_\n",
    "        # lyap = -dV_dxA_f_ - dV_dxA_g_ @ solution - dV_dxB_target_xdot_ - kV_ \n",
    "\n",
    "        return solution[0], [cbf1, cbf2, cbf3]\n",
    "    \n",
    "class horizonControl(nn.Module):\n",
    "\n",
    "    def __init__(self,):\n",
    "        super().__init__()\n",
    "        self.one_step_forward = closedLoopLayer(Unicycle2D,SingleIntegrator,1.5,1.0,1.0,0.2)  # pass agent and target functions here\n",
    "\n",
    "\n",
    "    def forward(self,x_agent,x_target):\n",
    "        '''\n",
    "            x_agent: initial location of agent\n",
    "            x_target: array of future target locations\n",
    "        '''\n",
    "\n",
    "        # Time 1:\n",
    "        # s_time = time.time()\n",
    "        u0, cons0 = self.one_step_forward(x_agent,x_target[0],torch.tensor( np.array([1.0,0.0]).reshape(-1,1),dtype=torch.float ))\n",
    "        # print(\"Time: \", time.time()-s_time)\n",
    "\n",
    "        # s_time = time.time()\n",
    "        x1 = dynam(x_agent,u0)\n",
    "        # print(\"Time: \", time.time()-s_time)\n",
    "\n",
    "        #Time 2: \n",
    "        u1, cons1 = self.one_step_forward(x1,x_target[1],torch.tensor( np.array([1.0,0.0]).reshape(-1,1),dtype=torch.float ))\n",
    "        x2 = dynam(x1,u1)\n",
    "\n",
    "        #Time 3: \n",
    "        u2, cons2 = self.one_step_forward(x2,x_target[2],torch.tensor( np.array([1.0,0.0]).reshape(-1,1),dtype=torch.float ))\n",
    "        x3 = dynam(x2,u2)\n",
    "\n",
    "        #Time 4: \n",
    "        u3, cons3 = self.one_step_forward(x1,x_target[1],torch.tensor( np.array([1.0,0.0]).reshape(-1,1),dtype=torch.float ))\n",
    "        x4 = dynam(x1,u3)\n",
    "\n",
    "        return [x1, x2, x3, x4], \\\n",
    "               [u0, u1, u2, u3], \\\n",
    "               [cons0, cons1, cons2, cons3]"
   ]
  },
  {
   "cell_type": "code",
   "execution_count": 6,
   "id": "ca13df02",
   "metadata": {},
   "outputs": [
    {
     "data": {
      "text/plain": [
       "(tensor([[-10.2958],\n",
       "         [-43.2691]]),\n",
       " [tensor([[[10.4182]]]), tensor([[[0.]]]), tensor([[[0.]]])])"
      ]
     },
     "execution_count": 6,
     "metadata": {},
     "output_type": "execute_result"
    }
   ],
   "source": [
    "Fx = torch.tensor(np.array([0.0,0.2,0.0]).reshape(-1,1),dtype=torch.float)\n",
    "Tx = torch.tensor(np.array([1.0,0.0]).reshape(-1,1),dtype=torch.float)\n",
    "\n",
    "# Test Closed Loop\n",
    "\n",
    "model = closedLoopLayer(Unicycle2D,SingleIntegrator,1.5,1.0,1.0,0.2)\n",
    "model(Fx,Tx,torch.tensor( np.array([1.0,0.0]).reshape(-1,1),dtype=torch.float ) )"
   ]
  },
  {
   "cell_type": "code",
   "execution_count": 9,
   "id": "fcb3cf56",
   "metadata": {},
   "outputs": [],
   "source": [
    "mpc = horizonControl()\n",
    "x, u, cons = mpc(Fx,[Tx,Tx,Tx,Tx])"
   ]
  },
  {
   "cell_type": "code",
   "execution_count": 8,
   "id": "85c4dc0b",
   "metadata": {},
   "outputs": [
    {
     "name": "stdout",
     "output_type": "stream",
     "text": [
      "tensor([[-0.1030],\n",
      "        [ 0.2000],\n",
      "        [-0.4327]])\n"
     ]
    },
    {
     "ename": "RuntimeError",
     "evalue": "element 0 of tensors does not require grad and does not have a grad_fn",
     "output_type": "error",
     "traceback": [
      "\u001b[0;31m---------------------------------------------------------------------------\u001b[0m",
      "\u001b[0;31mRuntimeError\u001b[0m                              Traceback (most recent call last)",
      "\u001b[0;32m<ipython-input-8-b944d9839e08>\u001b[0m in \u001b[0;36m<module>\u001b[0;34m\u001b[0m\n\u001b[1;32m      1\u001b[0m \u001b[0mprint\u001b[0m\u001b[0;34m(\u001b[0m\u001b[0mx\u001b[0m\u001b[0;34m[\u001b[0m\u001b[0;36m0\u001b[0m\u001b[0;34m]\u001b[0m\u001b[0;34m)\u001b[0m\u001b[0;34m\u001b[0m\u001b[0;34m\u001b[0m\u001b[0m\n\u001b[1;32m      2\u001b[0m \u001b[0;34m\u001b[0m\u001b[0m\n\u001b[0;32m----> 3\u001b[0;31m \u001b[0mx\u001b[0m\u001b[0;34m[\u001b[0m\u001b[0;36m0\u001b[0m\u001b[0;34m]\u001b[0m\u001b[0;34m.\u001b[0m\u001b[0msum\u001b[0m\u001b[0;34m(\u001b[0m\u001b[0;34m)\u001b[0m\u001b[0;34m.\u001b[0m\u001b[0mbackward\u001b[0m\u001b[0;34m(\u001b[0m\u001b[0mretain_graph\u001b[0m\u001b[0;34m=\u001b[0m\u001b[0;32mTrue\u001b[0m\u001b[0;34m)\u001b[0m\u001b[0;34m\u001b[0m\u001b[0;34m\u001b[0m\u001b[0m\n\u001b[0m\u001b[1;32m      4\u001b[0m \u001b[0;34m\u001b[0m\u001b[0m\n\u001b[1;32m      5\u001b[0m \u001b[0mprint\u001b[0m\u001b[0;34m(\u001b[0m\u001b[0mu\u001b[0m\u001b[0;34m)\u001b[0m\u001b[0;34m\u001b[0m\u001b[0;34m\u001b[0m\u001b[0m\n",
      "\u001b[0;32m~/Desktop/Research/Safe-Learning-DASC/venv_sl_dasc/lib/python3.6/site-packages/torch/_tensor.py\u001b[0m in \u001b[0;36mbackward\u001b[0;34m(self, gradient, retain_graph, create_graph, inputs)\u001b[0m\n\u001b[1;32m    253\u001b[0m                 \u001b[0mcreate_graph\u001b[0m\u001b[0;34m=\u001b[0m\u001b[0mcreate_graph\u001b[0m\u001b[0;34m,\u001b[0m\u001b[0;34m\u001b[0m\u001b[0;34m\u001b[0m\u001b[0m\n\u001b[1;32m    254\u001b[0m                 inputs=inputs)\n\u001b[0;32m--> 255\u001b[0;31m         \u001b[0mtorch\u001b[0m\u001b[0;34m.\u001b[0m\u001b[0mautograd\u001b[0m\u001b[0;34m.\u001b[0m\u001b[0mbackward\u001b[0m\u001b[0;34m(\u001b[0m\u001b[0mself\u001b[0m\u001b[0;34m,\u001b[0m \u001b[0mgradient\u001b[0m\u001b[0;34m,\u001b[0m \u001b[0mretain_graph\u001b[0m\u001b[0;34m,\u001b[0m \u001b[0mcreate_graph\u001b[0m\u001b[0;34m,\u001b[0m \u001b[0minputs\u001b[0m\u001b[0;34m=\u001b[0m\u001b[0minputs\u001b[0m\u001b[0;34m)\u001b[0m\u001b[0;34m\u001b[0m\u001b[0;34m\u001b[0m\u001b[0m\n\u001b[0m\u001b[1;32m    256\u001b[0m \u001b[0;34m\u001b[0m\u001b[0m\n\u001b[1;32m    257\u001b[0m     \u001b[0;32mdef\u001b[0m \u001b[0mregister_hook\u001b[0m\u001b[0;34m(\u001b[0m\u001b[0mself\u001b[0m\u001b[0;34m,\u001b[0m \u001b[0mhook\u001b[0m\u001b[0;34m)\u001b[0m\u001b[0;34m:\u001b[0m\u001b[0;34m\u001b[0m\u001b[0;34m\u001b[0m\u001b[0m\n",
      "\u001b[0;32m~/Desktop/Research/Safe-Learning-DASC/venv_sl_dasc/lib/python3.6/site-packages/torch/autograd/__init__.py\u001b[0m in \u001b[0;36mbackward\u001b[0;34m(tensors, grad_tensors, retain_graph, create_graph, grad_variables, inputs)\u001b[0m\n\u001b[1;32m    147\u001b[0m     Variable._execution_engine.run_backward(\n\u001b[1;32m    148\u001b[0m         \u001b[0mtensors\u001b[0m\u001b[0;34m,\u001b[0m \u001b[0mgrad_tensors_\u001b[0m\u001b[0;34m,\u001b[0m \u001b[0mretain_graph\u001b[0m\u001b[0;34m,\u001b[0m \u001b[0mcreate_graph\u001b[0m\u001b[0;34m,\u001b[0m \u001b[0minputs\u001b[0m\u001b[0;34m,\u001b[0m\u001b[0;34m\u001b[0m\u001b[0;34m\u001b[0m\u001b[0m\n\u001b[0;32m--> 149\u001b[0;31m         allow_unreachable=True, accumulate_grad=True)  # allow_unreachable flag\n\u001b[0m\u001b[1;32m    150\u001b[0m \u001b[0;34m\u001b[0m\u001b[0m\n\u001b[1;32m    151\u001b[0m \u001b[0;34m\u001b[0m\u001b[0m\n",
      "\u001b[0;31mRuntimeError\u001b[0m: element 0 of tensors does not require grad and does not have a grad_fn"
     ]
    }
   ],
   "source": [
    "print(x[0])\n",
    "\n",
    "x[0].sum().backward(retain_graph=True)\n",
    "\n",
    "print(u)\n",
    "\n",
    "print(cons)"
   ]
  },
  {
   "cell_type": "code",
   "execution_count": null,
   "id": "903d83a9",
   "metadata": {},
   "outputs": [],
   "source": []
  }
 ],
 "metadata": {
  "kernelspec": {
   "display_name": "Python 3",
   "language": "python",
   "name": "python3"
  },
  "language_info": {
   "codemirror_mode": {
    "name": "ipython",
    "version": 3
   },
   "file_extension": ".py",
   "mimetype": "text/x-python",
   "name": "python",
   "nbconvert_exporter": "python",
   "pygments_lexer": "ipython3",
   "version": "3.6.15"
  }
 },
 "nbformat": 4,
 "nbformat_minor": 5
}
