{
 "cells": [
  {
   "cell_type": "markdown",
   "id": "0bed6b09",
   "metadata": {},
   "source": [
    "### Example 1"
   ]
  },
  {
   "cell_type": "code",
   "execution_count": 9,
   "id": "4b276c1f",
   "metadata": {},
   "outputs": [],
   "source": [
    "import  cvxpy as cp"
   ]
  },
  {
   "cell_type": "code",
   "execution_count": 10,
   "id": "3465ced7",
   "metadata": {},
   "outputs": [],
   "source": [
    "m, n = 20, 10\n",
    "x = cp.Variable ((n, 1))\n",
    "F = cp.Parameter ((m, n))\n",
    "g = cp.Parameter ((m, 1))\n",
    "lambd = cp.Parameter ((1, 1), nonneg=True)\n",
    "objective_fn = cp.norm(F @ x - g) + lambd * cp.norm(x)\n",
    "constraints = [x  >= 0]\n",
    "problem = cp.Problem(cp.Minimize(objective_fn), constraints)\n",
    "assert  problem.is_dpp ()"
   ]
  },
  {
   "cell_type": "code",
   "execution_count": 7,
   "id": "6919ce9b",
   "metadata": {},
   "outputs": [],
   "source": [
    "import  torch\n",
    "from  cvxpylayers.torch  import  CvxpyLayer"
   ]
  },
  {
   "cell_type": "code",
   "execution_count": 11,
   "id": "9267c97e",
   "metadata": {},
   "outputs": [],
   "source": [
    "F_t = torch.randn(m, n, requires_grad=True)\n",
    "g_t = torch.randn(m, 1, requires_grad=True)\n",
    "lambd_t = torch.rand(1, 1, requires_grad=True)\n",
    "layer = CvxpyLayer(\n",
    "    problem , parameters =[F, g, lambd], variables =[x])\n",
    "x_star , = layer(F_t , g_t , lambd_t)\n",
    "x_star.sum().backward ()"
   ]
  },
  {
   "cell_type": "markdown",
   "id": "dcfc443e",
   "metadata": {},
   "source": [
    "### Example 2"
   ]
  },
  {
   "cell_type": "code",
   "execution_count": 12,
   "id": "7216b718",
   "metadata": {},
   "outputs": [],
   "source": [
    "n, m = 2, 3\n",
    "x = cp.Variable(n)\n",
    "A = cp.Parameter((m, n))\n",
    "b = cp.Parameter(m)\n",
    "constraints = [x >= 0]\n",
    "objective = cp.Minimize(0.5 * cp.pnorm(A @ x - b, p=1))\n",
    "problem = cp.Problem(objective, constraints)\n",
    "assert problem.is_dpp()"
   ]
  },
  {
   "cell_type": "code",
   "execution_count": 13,
   "id": "df6f3e6f",
   "metadata": {},
   "outputs": [],
   "source": [
    "cvxpylayer = CvxpyLayer(problem, parameters=[A, b], variables=[x])\n",
    "A_tch = torch.randn(m, n, requires_grad=True)\n",
    "b_tch = torch.randn(m, requires_grad=True)"
   ]
  },
  {
   "cell_type": "code",
   "execution_count": 16,
   "id": "cc3bcc4b",
   "metadata": {},
   "outputs": [
    {
     "name": "stdout",
     "output_type": "stream",
     "text": [
      "tensor([6.0573e-08, 7.6788e-01], grad_fn=<_CvxpyLayerFnFnBackward>)\n"
     ]
    }
   ],
   "source": [
    "# solve the problem\n",
    "solution, = cvxpylayer(A_tch, b_tch)\n",
    "print(solution)"
   ]
  },
  {
   "cell_type": "code",
   "execution_count": 30,
   "id": "b2ec9634",
   "metadata": {},
   "outputs": [
    {
     "name": "stdout",
     "output_type": "stream",
     "text": [
      "None\n"
     ]
    }
   ],
   "source": [
    "# compute the gradient of the sum of the solution with respect to A, b\n",
    "print(solution.sum().backward())"
   ]
  },
  {
   "cell_type": "code",
   "execution_count": 35,
   "id": "e9eab6f4",
   "metadata": {},
   "outputs": [
    {
     "name": "stdout",
     "output_type": "stream",
     "text": [
      "tensor([[6.9450e-10, 1.1604e-08],\n",
      "        [6.9450e-10, 2.2622e-08],\n",
      "        [5.4907e-08, 6.9338e-01]])\n"
     ]
    }
   ],
   "source": [
    "print(A_tch.grad)"
   ]
  },
  {
   "cell_type": "markdown",
   "id": "5fca0b86",
   "metadata": {},
   "source": [
    "### New Example"
   ]
  },
  {
   "cell_type": "code",
   "execution_count": 104,
   "id": "9ec37beb",
   "metadata": {},
   "outputs": [
    {
     "name": "stdout",
     "output_type": "stream",
     "text": [
      "[Parameter((1,)), Parameter((1,))]\n",
      "tensor([-0.6935], grad_fn=<_CvxpyLayerFnFnBackward>)\n",
      "param883\n",
      "param884\n"
     ]
    }
   ],
   "source": [
    "x = cp.Variable(1)\n",
    "a = cp.Parameter(1)\n",
    "c = cp.Parameter(1)\n",
    "const = [x<=c]\n",
    "objective = cp.Minimize(0.5*cp.norm(x-a))\n",
    "problem = cp.Problem(objective, const)\n",
    "assert problem.is_dpp()\n",
    "print(problem.parameters())\n",
    "cvxpylayer = CvxpyLayer(problem, parameters=[a, c], variables=[x])\n",
    "a_tch = torch.randn(1, requires_grad=True)\n",
    "c_tch = torch.randn(1, requires_grad=True)\n",
    "# solve the problem\n",
    "solution, = cvxpylayer(a_tch, c_tch)\n",
    "print(solution)\n",
    "# compute the gradient of the sum of the solution with respect to a, c\n",
    "solution.sum().backward()\n",
    "a_ = torch.linspace(-5,5,steps=1, requires_grad=True)\n",
    "print(a)\n",
    "#c.value = [2]\n",
    "c_ = torch.tensor([3.0],requires_grad=True)\n",
    "print(c)\n",
    "y, = cvxpylayer(a_,c_)"
   ]
  },
  {
   "cell_type": "code",
   "execution_count": 2,
   "id": "7115719f",
   "metadata": {},
   "outputs": [],
   "source": [
    "import cvxpy as cp\n",
    "import torch\n",
    "from cvxpylayers.torch import CvxpyLayer\n",
    "\n",
    "x = cp.Variable(pos=True)\n",
    "y = cp.Variable(pos=True)\n",
    "z = cp.Variable(pos=True)\n",
    "\n",
    "a = cp.Parameter(pos=True, value=2.)\n",
    "b = cp.Parameter(pos=True, value=1.)\n",
    "c = cp.Parameter(value=0.5)\n",
    "\n",
    "objective_fn = 1/(x*y*z)\n",
    "objective = cp.Minimize(objective_fn)\n",
    "constraints = [a*(x*y + x*z + y*z) <= b, x >= y**c]\n",
    "problem = cp.Problem(objective, constraints)\n",
    "assert problem.is_dgp(dpp=True)\n",
    "\n",
    "layer = CvxpyLayer(problem, parameters=[a, b, c],\n",
    "                   variables=[x, y, z], gp=True)\n",
    "a_tch = torch.tensor(a.value, requires_grad=True)\n",
    "b_tch = torch.tensor(b.value, requires_grad=True)\n",
    "c_tch = torch.tensor(c.value, requires_grad=True)\n",
    "\n",
    "x_star, y_star, z_star = layer(a_tch, b_tch, c_tch)\n",
    "sum_of_solution = x_star + y_star + z_star\n",
    "sum_of_solution.backward()"
   ]
  },
  {
   "cell_type": "code",
   "execution_count": 78,
   "id": "6a8c7031",
   "metadata": {},
   "outputs": [
    {
     "name": "stdout",
     "output_type": "stream",
     "text": [
      "tensor(-0.2990)\n"
     ]
    }
   ],
   "source": [
    "print(a_tch.grad)"
   ]
  },
  {
   "cell_type": "code",
   "execution_count": 79,
   "id": "8e219111",
   "metadata": {},
   "outputs": [
    {
     "name": "stdout",
     "output_type": "stream",
     "text": [
      "tensor(0.5979)\n"
     ]
    }
   ],
   "source": [
    "print(b_tch.grad)"
   ]
  },
  {
   "cell_type": "markdown",
   "id": "f1151751",
   "metadata": {},
   "source": [
    "### ReLU Example"
   ]
  },
  {
   "cell_type": "code",
   "execution_count": 105,
   "id": "badaa884",
   "metadata": {},
   "outputs": [
    {
     "data": {
      "text/plain": [
       "Text(0, 0.5, '$f(x)$')"
      ]
     },
     "execution_count": 105,
     "metadata": {},
     "output_type": "execute_result"
    },
    {
     "data": {
      "image/png": "[encoded data removed]",
      "text/plain": [
       "<Figure size 432x288 with 1 Axes>"
      ]
     },
     "metadata": {
      "needs_background": "light"
     },
     "output_type": "display_data"
    }
   ],
   "source": [
    "import matplotlib.pyplot as plt\n",
    "n = 201\n",
    "_x = cp.Parameter(n)\n",
    "_y = cp.Variable(n)\n",
    "obj = cp.Minimize(cp.sum_squares(_y-_x))\n",
    "cons = [_y >= 0]\n",
    "prob = cp.Problem(obj, cons)\n",
    "layer = CvxpyLayer(prob, parameters=[_x], variables=[_y])\n",
    "x = torch.linspace(-5, 5, steps=201, requires_grad=True)\n",
    "# print(x)\n",
    "y, = layer(x)\n",
    "# print(y)\n",
    "plt.plot(x.detach().numpy(), y.detach().numpy())\n",
    "plt.title('The Variational ReLU')\n",
    "plt.xlabel('$x$')\n",
    "plt.ylabel('$f(x)$')"
   ]
  },
  {
   "cell_type": "markdown",
   "id": "94edf876",
   "metadata": {},
   "source": [
    "### Standard QP and gradient computation"
   ]
  },
  {
   "cell_type": "code",
   "execution_count": 7,
   "id": "4a974c1e",
   "metadata": {},
   "outputs": [
    {
     "name": "stdout",
     "output_type": "stream",
     "text": [
      "[Parameter(()), Parameter(())]\n",
      "[-2.]\n",
      "None\n",
      "0.013217926025390625\n",
      "a grad  -1.7444074e-13\n",
      "c grad  1.0\n",
      "optimal\n",
      "[-2.]\n"
     ]
    }
   ],
   "source": [
    "import time\n",
    "x = cp.Variable(1)\n",
    "a = cp.Parameter(value=.5)\n",
    "c = cp.Parameter(value=-2.)\n",
    "const = [x<=c]\n",
    "s = time.time()\n",
    "objective = cp.Minimize(0.5*cp.norm(x-a))\n",
    "problem = cp.Problem(objective, const)\n",
    "assert problem.is_dpp()\n",
    "print(problem.parameters())\n",
    "\n",
    "cvxpylayer = CvxpyLayer(problem, parameters=[a, c], variables=[x])\n",
    "a_tch = torch.tensor(a.value, requires_grad=True)\n",
    "c_tch = torch.tensor(c.value, requires_grad=True)\n",
    "\n",
    "# solve the problem\n",
    "solution, = cvxpylayer(a_tch, c_tch)\n",
    "print(solution.detach().numpy())\n",
    "print(x.value)\n",
    "\n",
    "# compute the gradient of the sum of the solution with respect to a, c\n",
    "solution.sum().backward()\n",
    "print(time.time()-s)\n",
    "print(\"a grad \", a_tch.grad.numpy())\n",
    "print(\"c grad \", c_tch.grad.numpy())\n",
    "problem.solve()\n",
    "print(problem.status)\n",
    "print(x.value)\n"
   ]
  },
  {
   "cell_type": "code",
   "execution_count": 119,
   "id": "303152c5",
   "metadata": {},
   "outputs": [],
   "source": [
    "# Correct!!!"
   ]
  },
  {
   "cell_type": "code",
   "execution_count": 6,
   "id": "3a720623",
   "metadata": {},
   "outputs": [
    {
     "name": "stdout",
     "output_type": "stream",
     "text": [
      "[Parameter((2, 1)), Parameter((2, 1))]\n"
     ]
    },
    {
     "ename": "RuntimeError",
     "evalue": "Only Tensors of floating point and complex dtype can require gradients",
     "output_type": "error",
     "traceback": [
      "\u001b[0;31m---------------------------------------------------------------------------\u001b[0m",
      "\u001b[0;31mRuntimeError\u001b[0m                              Traceback (most recent call last)",
      "\u001b[0;32m<ipython-input-6-e0b671f4b25e>\u001b[0m in \u001b[0;36m<module>\u001b[0;34m\u001b[0m\n\u001b[1;32m     14\u001b[0m \u001b[0mcvxpylayer\u001b[0m \u001b[0;34m=\u001b[0m \u001b[0mCvxpyLayer\u001b[0m\u001b[0;34m(\u001b[0m\u001b[0mproblem\u001b[0m\u001b[0;34m,\u001b[0m \u001b[0mparameters\u001b[0m\u001b[0;34m=\u001b[0m\u001b[0;34m[\u001b[0m\u001b[0ma\u001b[0m\u001b[0;34m,\u001b[0m \u001b[0mc\u001b[0m\u001b[0;34m]\u001b[0m\u001b[0;34m,\u001b[0m \u001b[0mvariables\u001b[0m\u001b[0;34m=\u001b[0m\u001b[0;34m[\u001b[0m\u001b[0mx\u001b[0m\u001b[0;34m]\u001b[0m\u001b[0;34m)\u001b[0m\u001b[0;34m\u001b[0m\u001b[0;34m\u001b[0m\u001b[0m\n\u001b[1;32m     15\u001b[0m \u001b[0ma_tch\u001b[0m \u001b[0;34m=\u001b[0m \u001b[0mtorch\u001b[0m\u001b[0;34m.\u001b[0m\u001b[0mtensor\u001b[0m\u001b[0;34m(\u001b[0m\u001b[0ma\u001b[0m\u001b[0;34m.\u001b[0m\u001b[0mvalue\u001b[0m\u001b[0;34m,\u001b[0m \u001b[0mrequires_grad\u001b[0m\u001b[0;34m=\u001b[0m\u001b[0;32mTrue\u001b[0m\u001b[0;34m)\u001b[0m\u001b[0;34m\u001b[0m\u001b[0;34m\u001b[0m\u001b[0m\n\u001b[0;32m---> 16\u001b[0;31m \u001b[0mc_tch\u001b[0m \u001b[0;34m=\u001b[0m \u001b[0mtorch\u001b[0m\u001b[0;34m.\u001b[0m\u001b[0mtensor\u001b[0m\u001b[0;34m(\u001b[0m\u001b[0mc\u001b[0m\u001b[0;34m.\u001b[0m\u001b[0mvalue\u001b[0m\u001b[0;34m,\u001b[0m \u001b[0mrequires_grad\u001b[0m\u001b[0;34m=\u001b[0m\u001b[0;32mTrue\u001b[0m\u001b[0;34m)\u001b[0m\u001b[0;34m\u001b[0m\u001b[0;34m\u001b[0m\u001b[0m\n\u001b[0m\u001b[1;32m     17\u001b[0m \u001b[0;34m\u001b[0m\u001b[0m\n\u001b[1;32m     18\u001b[0m \u001b[0;31m# solve the problem\u001b[0m\u001b[0;34m\u001b[0m\u001b[0;34m\u001b[0m\u001b[0;34m\u001b[0m\u001b[0m\n",
      "\u001b[0;31mRuntimeError\u001b[0m: Only Tensors of floating point and complex dtype can require gradients"
     ]
    }
   ],
   "source": [
    "import time\n",
    "import numpy as np\n",
    "x = cp.Variable((2,1))\n",
    "a = cp.Parameter((2,1),value=np.array([[.5],[.5]]))\n",
    "c = cp.Parameter((2,1),value=np.array([[-2],[-2]]))\n",
    "const = [x<=c]\n",
    "s = time.time()\n",
    "objective = cp.Minimize(0.5*cp.norm(x-a))\n",
    "problem = cp.Problem(objective, const)\n",
    "\n",
    "assert problem.is_dpp()\n",
    "print(problem.parameters())\n",
    "\n",
    "cvxpylayer = CvxpyLayer(problem, parameters=[a, c], variables=[x])\n",
    "a_tch = torch.tensor(a.value, requires_grad=True)\n",
    "c_tch = torch.tensor(c.value, requires_grad=True)\n",
    "\n",
    "# solve the problem\n",
    "solution, = cvxpylayer(a_tch, c_tch)\n",
    "print(solution.detach().numpy())\n",
    "print(x.value)\n",
    "\n",
    "# compute the gradient of the sum of the solution with respect to a, c\n",
    "solution.sum().backward()\n",
    "print(time.time()-s)\n",
    "print(\"a grad \", a_tch.grad.numpy())\n",
    "print(\"c grad \", c_tch.grad.numpy())\n",
    "problem.solve()\n",
    "print(problem.status)\n",
    "print(x.value)"
   ]
  },
  {
   "cell_type": "code",
   "execution_count": null,
   "id": "40216e93",
   "metadata": {},
   "outputs": [],
   "source": []
  }
 ],
 "metadata": {
  "interpreter": {
   "hash": "8b80ef96c0b9ec7523e3fdb3c1302c2a91c3bd0075409559ec6598517d0a50aa"
  },
  "kernelspec": {
   "display_name": "Python 3",
   "language": "python",
   "name": "python3"
  },
  "language_info": {
   "codemirror_mode": {
    "name": "ipython",
    "version": 3
   },
   "file_extension": ".py",
   "mimetype": "text/x-python",
   "name": "python",
   "nbconvert_exporter": "python",
   "pygments_lexer": "ipython3",
   "version": "3.6.15"
  }
 },
 "nbformat": 4,
 "nbformat_minor": 5
}
