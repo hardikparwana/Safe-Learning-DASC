{
 "cells": [
  {
   "cell_type": "code",
   "execution_count": 2,
   "id": "6a9c1e78",
   "metadata": {},
   "outputs": [],
   "source": [
    "import numpy as np\n",
    "import cvxpy as cp\n",
    "import matplotlib.pyplot as plt"
   ]
  },
  {
   "cell_type": "code",
   "execution_count": 137,
   "id": "9fdf5a71",
   "metadata": {},
   "outputs": [],
   "source": [
    "u = cp.Variable(1)\n",
    "a = cp.Parameter(value=0.5)  \n",
    "b = cp.Parameter(value=0.9)\n",
    "x = np.array([0.1])\n",
    "\n",
    "dt = 0.01\n",
    "N = 100\n",
    "\n",
    "coeff = 0.9\n",
    "# E0 = 0.5\n",
    "# D1 = 1\n",
    "# D2 = 0.4\n",
    "\n",
    "def xdot(x,u):\n",
    "    return u\n",
    "\n",
    "def c1(t,E0,D1):\n",
    "#     return t\n",
    "    return t - E0*np.exp( -D1*t )\n",
    "\n",
    "def c2(t,E0,D2):\n",
    "#     return 1 + coeff*t\n",
    "    return t + E0*np.exp( -D2*t )\n",
    "\n",
    "def c1dot(t,E0,D1):\n",
    "#     return 1\n",
    "    return 1 + E0/D1*np.exp( -t/D1 )\n",
    "\n",
    "def c2dot(t,E0,D2):\n",
    "#     return coeff\n",
    "    return 1 - E0/D2*np.exp( -t/D2 )\n",
    "\n",
    "t = 0; dt = 0.01; N = 100; h1p = []; h2p = []; up = []\n",
    "\n",
    "def simulate(x0,e0,d1,d2,av,bv):\n",
    "    x = x0\n",
    "    t = 0\n",
    "    a.value = av*dt\n",
    "    b.value = bv*dt\n",
    "    c1_value = c1(0,e0,d1)\n",
    "    c2_value = c2(0,e0,d1)\n",
    "    for i in range(N):\n",
    "        #h1\n",
    "        h1 = x -  c1_value #c1(t,e0,d1) # x>=t\n",
    "        h1_ = h1 + (xdot(x,u) - c1dot(t,e0,d1))*dt\n",
    "\n",
    "        #h2\n",
    "        h2 = c2_value - x  #x <= 1 + 0.3t\n",
    "        h2_ = h2 + (c2dot(t,e0,d2) - xdot(x,u))*dt\n",
    "\n",
    "        if h1<0 or h2<0:\n",
    "#             print(h1,h2)\n",
    "            print(f\"Safety Violated: {i}, {h1}, {h2}\")\n",
    "            return 0\n",
    "#             print(x,c1(t,e0,d1),c2(t,e0,d2))\n",
    "            break\n",
    "\n",
    "        #constraints\n",
    "        const = [h1_ >= (1-a)*h1]\n",
    "        const += [h2_ >= (1-b)*h2]\n",
    "\n",
    "        objective = cp.Maximize(u)\n",
    "        problem = cp.Problem(objective,const)\n",
    "        problem.solve(verbose=False)\n",
    "        if problem.status != 'optimal':\n",
    "            print(f\"PROBLEM INFEASIBLE at: {i}, a:{a.value}, b:{b.value} \")\n",
    "            return i\n",
    "            break\n",
    "        if h1_.value<0 or h2_.value<0:\n",
    "            print(\"ERROR\")\n",
    "#         else:\n",
    "#             print(\"fine\")\n",
    "        h1p.append(h1); h2p.append(h2);  up.append(u.value)\n",
    "        x = x + xdot(x,u.value)*dt\n",
    "    #     print(f\"x_next:{x}, u:{u.value}, h1:{h1}, h1_dot:{h1_dot.value}, -ah1:{-a.value*h1}, h2:{h2}, h2_dot:{h2_dot.value}, -bh2:{-b.value*h2}\")\n",
    "        t += dt\n",
    "        \n",
    "        c1_value = c1_value + c1dot(t,e0,d1)*dt\n",
    "        c2_value = c2_value + c1dot(t,e0,d1)*dt\n",
    "    if i==N-1:\n",
    "        print(f\"Problem Successful, a:{a.value}, b:{b.value}, x:{x}, h1:{h1}, h2:{h2}\")\n",
    "        return i+1\n"
   ]
  },
  {
   "cell_type": "code",
   "execution_count": 146,
   "id": "fc03cdfb",
   "metadata": {},
   "outputs": [
    {
     "name": "stdout",
     "output_type": "stream",
     "text": [
      "Problem Successful, a:0.018000000000000002, b:0.011000000000000001, x:[1.38464624], h1:[0.56863875], h2:[0.43136125]\n"
     ]
    },
    {
     "data": {
      "text/plain": [
       "100"
      ]
     },
     "execution_count": 146,
     "metadata": {},
     "output_type": "execute_result"
    }
   ],
   "source": [
    "x0 = 0.4\n",
    "e0 = 0.5\n",
    "d1 = 1.0\n",
    "d2 = 0.5\n",
    "av = 1.8\n",
    "bv = 1.1\n",
    "simulate(x0,e0,d1,d2,av,bv)"
   ]
  },
  {
   "cell_type": "code",
   "execution_count": 75,
   "id": "81f9e6d8",
   "metadata": {},
   "outputs": [
    {
     "name": "stdout",
     "output_type": "stream",
     "text": [
      "PROBLEM INFEASIBLE at: 0, a:0.0, b:0.0 \n",
      "PROBLEM INFEASIBLE at: 0, a:0.0, b:0.0022222222222222222 \n",
      "PROBLEM INFEASIBLE at: 0, a:0.0, b:0.0044444444444444444 \n",
      "PROBLEM INFEASIBLE at: 0, a:0.0, b:0.006666666666666666 \n",
      "Problem Successful, a:0.0, b:0.008888888888888889\n",
      "Problem Successful, a:0.0, b:0.011111111111111112\n",
      "Problem Successful, a:0.0, b:0.013333333333333332\n",
      "Problem Successful, a:0.0, b:0.015555555555555553\n",
      "Problem Successful, a:0.0, b:0.017777777777777778\n",
      "Problem Successful, a:0.0, b:0.02\n",
      "PROBLEM INFEASIBLE at: 0, a:0.0022222222222222222, b:0.0 \n",
      "PROBLEM INFEASIBLE at: 0, a:0.0022222222222222222, b:0.0022222222222222222 \n",
      "PROBLEM INFEASIBLE at: 0, a:0.0022222222222222222, b:0.0044444444444444444 \n",
      "Problem Successful, a:0.0022222222222222222, b:0.006666666666666666\n",
      "Problem Successful, a:0.0022222222222222222, b:0.008888888888888889\n",
      "Problem Successful, a:0.0022222222222222222, b:0.011111111111111112\n",
      "Problem Successful, a:0.0022222222222222222, b:0.013333333333333332\n",
      "Problem Successful, a:0.0022222222222222222, b:0.015555555555555553\n",
      "Problem Successful, a:0.0022222222222222222, b:0.017777777777777778\n",
      "Problem Successful, a:0.0022222222222222222, b:0.02\n",
      "PROBLEM INFEASIBLE at: 0, a:0.0044444444444444444, b:0.0 \n",
      "PROBLEM INFEASIBLE at: 0, a:0.0044444444444444444, b:0.0022222222222222222 \n",
      "PROBLEM INFEASIBLE at: 0, a:0.0044444444444444444, b:0.0044444444444444444 \n",
      "Problem Successful, a:0.0044444444444444444, b:0.006666666666666666\n",
      "Problem Successful, a:0.0044444444444444444, b:0.008888888888888889\n",
      "Problem Successful, a:0.0044444444444444444, b:0.011111111111111112\n",
      "Problem Successful, a:0.0044444444444444444, b:0.013333333333333332\n",
      "Problem Successful, a:0.0044444444444444444, b:0.015555555555555553\n",
      "Problem Successful, a:0.0044444444444444444, b:0.017777777777777778\n",
      "Problem Successful, a:0.0044444444444444444, b:0.02\n",
      "PROBLEM INFEASIBLE at: 0, a:0.006666666666666666, b:0.0 \n",
      "PROBLEM INFEASIBLE at: 0, a:0.006666666666666666, b:0.0022222222222222222 \n",
      "Problem Successful, a:0.006666666666666666, b:0.0044444444444444444\n",
      "Problem Successful, a:0.006666666666666666, b:0.006666666666666666\n",
      "Problem Successful, a:0.006666666666666666, b:0.008888888888888889\n",
      "Problem Successful, a:0.006666666666666666, b:0.011111111111111112\n",
      "Problem Successful, a:0.006666666666666666, b:0.013333333333333332\n",
      "Problem Successful, a:0.006666666666666666, b:0.015555555555555553\n",
      "Problem Successful, a:0.006666666666666666, b:0.017777777777777778\n",
      "Problem Successful, a:0.006666666666666666, b:0.02\n",
      "PROBLEM INFEASIBLE at: 0, a:0.008888888888888889, b:0.0 \n",
      "PROBLEM INFEASIBLE at: 0, a:0.008888888888888889, b:0.0022222222222222222 \n",
      "Problem Successful, a:0.008888888888888889, b:0.0044444444444444444\n",
      "Problem Successful, a:0.008888888888888889, b:0.006666666666666666\n",
      "Problem Successful, a:0.008888888888888889, b:0.008888888888888889\n",
      "Problem Successful, a:0.008888888888888889, b:0.011111111111111112\n",
      "Problem Successful, a:0.008888888888888889, b:0.013333333333333332\n",
      "Problem Successful, a:0.008888888888888889, b:0.015555555555555553\n",
      "Problem Successful, a:0.008888888888888889, b:0.017777777777777778\n",
      "Problem Successful, a:0.008888888888888889, b:0.02\n",
      "PROBLEM INFEASIBLE at: 0, a:0.011111111111111112, b:0.0 \n",
      "Problem Successful, a:0.011111111111111112, b:0.0022222222222222222\n",
      "Problem Successful, a:0.011111111111111112, b:0.0044444444444444444\n",
      "Problem Successful, a:0.011111111111111112, b:0.006666666666666666\n",
      "Problem Successful, a:0.011111111111111112, b:0.008888888888888889\n",
      "Problem Successful, a:0.011111111111111112, b:0.011111111111111112\n",
      "Problem Successful, a:0.011111111111111112, b:0.013333333333333332\n",
      "Problem Successful, a:0.011111111111111112, b:0.015555555555555553\n",
      "Problem Successful, a:0.011111111111111112, b:0.017777777777777778\n",
      "Problem Successful, a:0.011111111111111112, b:0.02\n",
      "PROBLEM INFEASIBLE at: 0, a:0.013333333333333332, b:0.0 \n",
      "Problem Successful, a:0.013333333333333332, b:0.0022222222222222222\n",
      "Problem Successful, a:0.013333333333333332, b:0.0044444444444444444\n",
      "Problem Successful, a:0.013333333333333332, b:0.006666666666666666\n",
      "Problem Successful, a:0.013333333333333332, b:0.008888888888888889\n",
      "Problem Successful, a:0.013333333333333332, b:0.011111111111111112\n",
      "Problem Successful, a:0.013333333333333332, b:0.013333333333333332\n",
      "Problem Successful, a:0.013333333333333332, b:0.015555555555555553\n",
      "Problem Successful, a:0.013333333333333332, b:0.017777777777777778\n",
      "Problem Successful, a:0.013333333333333332, b:0.02\n",
      "PROBLEM INFEASIBLE at: 4, a:0.015555555555555553, b:0.0 \n",
      "Problem Successful, a:0.015555555555555553, b:0.0022222222222222222\n",
      "Problem Successful, a:0.015555555555555553, b:0.0044444444444444444\n",
      "Problem Successful, a:0.015555555555555553, b:0.006666666666666666\n",
      "Problem Successful, a:0.015555555555555553, b:0.008888888888888889\n",
      "Problem Successful, a:0.015555555555555553, b:0.011111111111111112\n",
      "Problem Successful, a:0.015555555555555553, b:0.013333333333333332\n",
      "Problem Successful, a:0.015555555555555553, b:0.015555555555555553\n",
      "Problem Successful, a:0.015555555555555553, b:0.017777777777777778\n",
      "Problem Successful, a:0.015555555555555553, b:0.02\n",
      "PROBLEM INFEASIBLE at: 16, a:0.017777777777777778, b:0.0 \n",
      "Problem Successful, a:0.017777777777777778, b:0.0022222222222222222\n",
      "Problem Successful, a:0.017777777777777778, b:0.0044444444444444444\n",
      "Problem Successful, a:0.017777777777777778, b:0.006666666666666666\n",
      "Problem Successful, a:0.017777777777777778, b:0.008888888888888889\n",
      "Problem Successful, a:0.017777777777777778, b:0.011111111111111112\n",
      "Problem Successful, a:0.017777777777777778, b:0.013333333333333332\n",
      "Problem Successful, a:0.017777777777777778, b:0.015555555555555553\n",
      "Problem Successful, a:0.017777777777777778, b:0.017777777777777778\n",
      "Problem Successful, a:0.017777777777777778, b:0.02\n",
      "PROBLEM INFEASIBLE at: 24, a:0.02, b:0.0 \n",
      "Problem Successful, a:0.02, b:0.0022222222222222222\n",
      "Problem Successful, a:0.02, b:0.0044444444444444444\n",
      "Problem Successful, a:0.02, b:0.006666666666666666\n",
      "Problem Successful, a:0.02, b:0.008888888888888889\n",
      "Problem Successful, a:0.02, b:0.011111111111111112\n",
      "Problem Successful, a:0.02, b:0.013333333333333332\n",
      "Problem Successful, a:0.02, b:0.015555555555555553\n",
      "Problem Successful, a:0.02, b:0.017777777777777778\n",
      "Problem Successful, a:0.02, b:0.02\n",
      "DONE!\n"
     ]
    }
   ],
   "source": [
    "e0 = 0.5\n",
    "nsize = 10\n",
    "D1 = np.linspace(0.1,2,nsize)\n",
    "d2 = 1.0\n",
    "X0 = np.linspace(-0.2,0.2,nsize)\n",
    "A = np.linspace(0,2,nsize)\n",
    "B = np.linspace(0,2,nsize)\n",
    "horizons = np.zeros((nsize,nsize))\n",
    "for i in range(nsize):\n",
    "    for j in range(nsize):\n",
    "        horizons[i,j] = simulate(0,e0,2,2,A[i],B[j])\n",
    "print(\"DONE!\")"
   ]
  },
  {
   "cell_type": "code",
   "execution_count": null,
   "id": "04511d58",
   "metadata": {},
   "outputs": [],
   "source": [
    "# e0 = 0.5\n",
    "# nsize = 10\n",
    "# D1 = np.linspace(0.1,2.1,nsize)\n",
    "# d2 = 1.0\n",
    "# X0 = np.linspace(-0.2,0.2,nsize)\n",
    "# horizons2 = np.zeros((nsize,nsize))\n",
    "# for i in range(nsize):\n",
    "#     for j in range(nsize):\n",
    "#         horizons2[i,j] = simulate(X0[i],e0,D1[j],d2)\n",
    "# print(\"DONE!\")"
   ]
  },
  {
   "cell_type": "code",
   "execution_count": null,
   "id": "fb31c238",
   "metadata": {},
   "outputs": [],
   "source": [
    "u = cp.Variable(1)\n",
    "a = cp.Parameter(value=0.5)  \n",
    "b = cp.Parameter(value=0.9)\n",
    "x = np.array([0.1])\n",
    "\n",
    "dt = 0.01\n",
    "N = 100\n",
    "\n",
    "coeff = 0.9\n",
    "# E0 = 0.5\n",
    "# D1 = 1\n",
    "# D2 = 0.4\n",
    "\n",
    "def xdot(x,u):\n",
    "    return u\n",
    "\n",
    "def c1(t,E0,D1):\n",
    "#     return t\n",
    "    return t - E0*np.exp( -D1*t )\n",
    "\n",
    "def c2(t,E0,D2):\n",
    "#     return 1 + coeff*t\n",
    "    return t + E0*np.exp( -D2*t )\n",
    "\n",
    "def c1dot(t,E0,D1):\n",
    "#     return 1\n",
    "    return 1 + E0/D1*np.exp( -t/D1 )\n",
    "\n",
    "def c2dot(t,E0,D2):\n",
    "#     return coeff\n",
    "    return 1 - E0/D2*np.exp( -t/D2 )\n",
    "\n",
    "t = 0; dt = 0.01; N = 100; h1p = []; h2p = []; up = []\n",
    "\n",
    "def simulate(x0,e0,d1,d2,av,bv):\n",
    "    x = x0\n",
    "    t = 0\n",
    "    a.value = av*dt\n",
    "    b.value = bv*dt\n",
    "    c1_value = c1(0,e0,d1)\n",
    "    c2_value = c2(0,e0,d1)\n",
    "    for i in range(N):\n",
    "        #h1\n",
    "        h1 = x -  c1_value #c1(t,e0,d1) # x>=t\n",
    "        h1_ = h1 + (xdot(x,u) - c1dot(t,e0,d1))*dt\n",
    "\n",
    "        #h2\n",
    "        h2 = c2_value - x  #x <= 1 + 0.3t\n",
    "        h2_ = h2 + (c2dot(t,e0,d2) - xdot(x,u))*dt\n",
    "\n",
    "        if h1<0 or h2<0:\n",
    "#             print(h1,h2)\n",
    "            print(f\"Safety Violated: {i}, {h1}, {h2}\")\n",
    "            return 0\n",
    "#             print(x,c1(t,e0,d1),c2(t,e0,d2))\n",
    "            break\n",
    "\n",
    "        #constraints\n",
    "        const = [h1_ >= (1-a)*h1]\n",
    "        const += [h2_ >= (1-b)*h2]\n",
    "\n",
    "        objective = cp.Maximize(u)\n",
    "        problem = cp.Problem(objective,const)\n",
    "        problem.solve(verbose=False)\n",
    "        if problem.status != 'optimal':\n",
    "            print(f\"PROBLEM INFEASIBLE at: {i}, a:{a.value}, b:{b.value} \")\n",
    "            return i\n",
    "            break\n",
    "        if h1_.value<0 or h2_.value<0:\n",
    "            print(\"ERROR\")\n",
    "#         else:\n",
    "#             print(\"fine\")\n",
    "        h1p.append(h1); h2p.append(h2);  up.append(u.value)\n",
    "        x = x + xdot(x,u.value)*dt\n",
    "    #     print(f\"x_next:{x}, u:{u.value}, h1:{h1}, h1_dot:{h1_dot.value}, -ah1:{-a.value*h1}, h2:{h2}, h2_dot:{h2_dot.value}, -bh2:{-b.value*h2}\")\n",
    "        t += dt\n",
    "        \n",
    "        c1_value = c1_value + c1dot(t,e0,d1)*dt\n",
    "        c2_value = c2_value + c1dot(t,e0,d1)*dt\n",
    "    if i==N-1:\n",
    "        print(f\"Problem Successful, a:{a.value}, b:{b.value}, x:{x}, h1:{h1}, h2:{h2}\")\n",
    "        return i+1\n"
   ]
  },
  {
   "cell_type": "code",
   "execution_count": 159,
   "id": "c9cdb4ae",
   "metadata": {},
   "outputs": [],
   "source": [
    "u = cp.Variable(1)\n",
    "a = cp.Parameter(value=0.7)  \n",
    "b = cp.Parameter(value=0.1)\n",
    "\n",
    "#(x,a,b)=(0.5,0.4,1) infeasible at 1\n",
    "#(x,a,b)=(0.5,0.5,1) infeasible at 85\n",
    "#(x,a,b)=(0.4,0.5,1) success. x=0.6: no solution at 0\n",
    "#(0.5, 0.9, 0.9), coeff = 0.3\n",
    "#(0.5, 0.7, 0.2), coeff = 0.7\n",
    "\n",
    "x = np.array([0.4])\n",
    "# x >= 0 + t = u\n",
    "# x <= 1 + 0.3*t only valid till t = 1/0.7. But for some time horizon, it should be possible to keep the constraints\n",
    "\n",
    "def xdot(x,u):\n",
    "    return u\n",
    "\n",
    "\n",
    "def simulate_simple(x0,av,bv,c):\n",
    "    t = 0\n",
    "    dt = 0.01\n",
    "    N = int(1.0/(1.0-c)*100)\n",
    "    x = x0\n",
    "    \n",
    "    a.value = av\n",
    "    b.value = bv\n",
    "    \n",
    "    xs = [x]\n",
    "    ts = [0]\n",
    "\n",
    "    for i in range(N):\n",
    "\n",
    "        #h1\n",
    "        h1 = x - t # x>=t\n",
    "        h1_dot = xdot(x,u) - 1\n",
    "\n",
    "        #h2\n",
    "        h2 = 1 + c*t - x  #x <= 1 + 0.3t\n",
    "        h2_dot = c - xdot(x,u)\n",
    "\n",
    "#         print(h1,h2)\n",
    "        if h1<0 or h2<0:\n",
    "            print(\"************* ERROR ****************\")\n",
    "\n",
    "        #constraints\n",
    "        const = [h1_dot >= -a*h1]\n",
    "        const += [h2_dot >= -b*h2]\n",
    "\n",
    "        objective = cp.Maximize(u)\n",
    "        problem = cp.Problem(objective,const)\n",
    "        problem.solve(verbose=False)\n",
    "        if problem.status != 'optimal':\n",
    "            print(f\"PROBLEM INFEASIBLE at :{i}, a:{a.value}, b:{b.value}\")\n",
    "            return i, xs, ts\n",
    "            break\n",
    "\n",
    "        x = x + xdot(x,u.value)*dt\n",
    "    #     print(f\"x_next:{x}, u:{u.value}, h1:{h1}, h1_dot:{h1_dot.value}, -ah1:{-a.value*h1}, h2:{h2}, h2_dot:{h2_dot.value}, -bh2:{-b.value*h2}\")\n",
    "        t += dt\n",
    "        xs.append(x)\n",
    "        ts.append(t)\n",
    "    if i==N-1:\n",
    "        print(\"Problem Successful\",t)\n",
    "    return i+1, xs, ts\n",
    "\n",
    " \n",
    "#     print(\"time\",t)\n",
    "    \n"
   ]
  },
  {
   "cell_type": "code",
   "execution_count": 163,
   "id": "7b10bc31",
   "metadata": {},
   "outputs": [
    {
     "name": "stdout",
     "output_type": "stream",
     "text": [
      "PROBLEM INFEASIBLE at :104, a:2.5, b:4.5\n"
     ]
    }
   ],
   "source": [
    "#x=0.8, c  = 0.7\n",
    "x0 = 0.5\n",
    "e0 = 0.5\n",
    "C = 0.3\n",
    "A = 2.5\n",
    "B = 4.5\n",
    "_, x1, t1 = simulate_simple(x0,A,B,C)"
   ]
  },
  {
   "cell_type": "code",
   "execution_count": 164,
   "id": "d8ce118c",
   "metadata": {},
   "outputs": [
    {
     "name": "stdout",
     "output_type": "stream",
     "text": [
      "PROBLEM INFEASIBLE at :32, a:0.5, b:1.5\n"
     ]
    }
   ],
   "source": [
    "#x=0.8, c  = 0.7\n",
    "x0 = 0.5\n",
    "e0 = 0.5\n",
    "C = 0.3\n",
    "A = 0.5\n",
    "B = 1.5\n",
    "_, x2, t2 = simulate_simple(x0,A,B,C)"
   ]
  },
  {
   "cell_type": "code",
   "execution_count": 178,
   "id": "7c472b50",
   "metadata": {},
   "outputs": [
    {
     "name": "stdout",
     "output_type": "stream",
     "text": [
      "PROBLEM INFEASIBLE at :64, a:1.0, b:3.0\n"
     ]
    }
   ],
   "source": [
    "#x=0.8, c  = 0.7\n",
    "x0 = 0.5\n",
    "e0 = 0.5\n",
    "C = 0.3\n",
    "A = 1.0\n",
    "B = 3.0\n",
    "_, x3, t3 = simulate_simple(x0,A,B,C)"
   ]
  },
  {
   "cell_type": "code",
   "execution_count": 188,
   "id": "4afdacd7",
   "metadata": {},
   "outputs": [
    {
     "name": "stdout",
     "output_type": "stream",
     "text": [
      "PROBLEM INFEASIBLE at :98, a:4.0, b:1.0\n"
     ]
    }
   ],
   "source": [
    "#x=0.8, c  = 0.7\n",
    "x0 = 0.5\n",
    "e0 = 0.5\n",
    "C = 0.3\n",
    "A = 4.0\n",
    "B = 1.0\n",
    "_, x4, t4 = simulate_simple(x0,A,B,C)"
   ]
  },
  {
   "cell_type": "code",
   "execution_count": 195,
   "id": "cb393de8",
   "metadata": {},
   "outputs": [
    {
     "name": "stdout",
     "output_type": "stream",
     "text": [
      "PROBLEM INFEASIBLE at :87, a:20.4, b:1.0\n"
     ]
    }
   ],
   "source": [
    "#x=0.8, c  = 0.7\n",
    "x0 = 0.1\n",
    "e0 = 0.5\n",
    "C = 0.3\n",
    "A = 20.4\n",
    "B = 1.0\n",
    "_, x5, t5 = simulate_simple(x0,A,B,C)"
   ]
  },
  {
   "cell_type": "code",
   "execution_count": 198,
   "id": "cb9762ea",
   "metadata": {},
   "outputs": [
    {
     "name": "stdout",
     "output_type": "stream",
     "text": [
      "PROBLEM INFEASIBLE at :104, a:2.5, b:4.5\n"
     ]
    }
   ],
   "source": [
    "#x=0.8, c  = 0.7\n",
    "x0 = 0.1\n",
    "e0 = 0.5\n",
    "C = 0.3\n",
    "A = 2.5\n",
    "B = 4.5\n",
    "_, x6, t6 = simulate_simple(x0,A,B,C)"
   ]
  },
  {
   "cell_type": "code",
   "execution_count": 203,
   "id": "508fbbb3",
   "metadata": {},
   "outputs": [
    {
     "name": "stderr",
     "output_type": "stream",
     "text": [
      "/home/hardik/Desktop/Research/Safe-Learning-DASC/venv_sl_dasc/lib/python3.6/site-packages/numpy/core/_asarray.py:136: VisibleDeprecationWarning: Creating an ndarray from ragged nested sequences (which is a list-or-tuple of lists-or-tuples-or ndarrays with different lengths or shapes) is deprecated. If you meant to do this, you must specify 'dtype=object' when creating the ndarray\n",
      "  return array(a, dtype, copy=False, order=order, subok=True)\n",
      "The PostScript backend does not support transparency; partially transparent artists will be rendered opaque.\n",
      "The PostScript backend does not support transparency; partially transparent artists will be rendered opaque.\n"
     ]
    },
    {
     "data": {
      "image/png": "[encoded data removed]",
      "text/plain": [
       "<Figure size 432x288 with 1 Axes>"
      ]
     },
     "metadata": {
      "needs_background": "light"
     },
     "output_type": "display_data"
    }
   ],
   "source": [
    "plt.plot(t1,x1,label='a=2.5,b=4.5')\n",
    "plt.plot(t2,x2,label='a=0.5,b=1.5')\n",
    "plt.plot(t3,x3,label='a=1.0,b=3.0')\n",
    "plt.plot(t4,x4,label='a=3.0,b=1.0')\n",
    "plt.plot(t5,x5,label='a=20.4,b=1.0')\n",
    "plt.plot(t6,x6,label='a=2.5,b=4.5')\n",
    "\n",
    "\n",
    "tmax = max(max(t1),max(t2))\n",
    "t = np.linspace(0,tmax,30)\n",
    "b1 = t\n",
    "b2 = 1 + C*t\n",
    "\n",
    "plt.axhline(y=0.0, color='k', linestyle='-')\n",
    "plt.axvline(x=0.0, color='k', linestyle='-')\n",
    "\n",
    "plt.plot(t,b1,'k--')\n",
    "plt.plot(t,b2,'k--')\n",
    "plt.xlabel('time')\n",
    "plt.ylabel('x')\n",
    "\n",
    "plt.legend()\n",
    "\n",
    "plt.savefig(\"paths_example1.png\")\n",
    "plt.savefig(\"paths_example1.eps\")"
   ]
  },
  {
   "cell_type": "code",
   "execution_count": null,
   "id": "6e162527",
   "metadata": {},
   "outputs": [],
   "source": []
  },
  {
   "cell_type": "code",
   "execution_count": null,
   "id": "d4f541eb",
   "metadata": {},
   "outputs": [],
   "source": []
  }
 ],
 "metadata": {
  "kernelspec": {
   "display_name": "Python 3",
   "language": "python",
   "name": "python3"
  },
  "language_info": {
   "codemirror_mode": {
    "name": "ipython",
    "version": 3
   },
   "file_extension": ".py",
   "mimetype": "text/x-python",
   "name": "python",
   "nbconvert_exporter": "python",
   "pygments_lexer": "ipython3",
   "version": "3.6.15"
  }
 },
 "nbformat": 4,
 "nbformat_minor": 5
}
