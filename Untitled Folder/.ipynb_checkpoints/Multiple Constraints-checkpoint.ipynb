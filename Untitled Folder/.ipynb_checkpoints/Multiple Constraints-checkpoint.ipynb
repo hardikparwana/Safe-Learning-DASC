{
 "cells": [
  {
   "cell_type": "code",
   "execution_count": 1,
   "id": "0cd84ee4",
   "metadata": {},
   "outputs": [],
   "source": [
    "import numpy as np\n",
    "import cvxpy as cp"
   ]
  },
  {
   "cell_type": "code",
   "execution_count": 15,
   "id": "3ef7445b",
   "metadata": {},
   "outputs": [
    {
     "data": {
      "text/plain": [
       "array([1.])"
      ]
     },
     "execution_count": 15,
     "metadata": {},
     "output_type": "execute_result"
    }
   ],
   "source": [
    "u = cp.Variable(1)\n",
    "a = cp.Parameter(value=3)\n",
    "b = cp.Parameter(value=0)\n",
    "\n",
    "x = np.array([0.5])\n",
    "# x >= 0, x<= 1 + 1*t\n",
    "# h1 = x , h2 = 1 - x, xdot = u\n",
    "xdot = u\n",
    "\n",
    "h1 = x\n",
    "h1_dot = xdot\n",
    "h2 = 1 - x\n",
    "h2_dot = 1 -xdot\n",
    "\n",
    "const = [h1_dot >= -a*h1]\n",
    "const = [h2_dot >= -b*h2]\n",
    "\n",
    "objective = cp.Maximize(u)\n",
    "\n",
    "problem = cp.Problem(objective,const)\n",
    "problem.solve()\n",
    "\n",
    "u.value\n"
   ]
  },
  {
   "cell_type": "code",
   "execution_count": null,
   "id": "1ac6779f",
   "metadata": {},
   "outputs": [],
   "source": []
  },
  {
   "cell_type": "code",
   "execution_count": null,
   "id": "397316f8",
   "metadata": {},
   "outputs": [],
   "source": []
  }
 ],
 "metadata": {
  "kernelspec": {
   "display_name": "Python 3",
   "language": "python",
   "name": "python3"
  },
  "language_info": {
   "codemirror_mode": {
    "name": "ipython",
    "version": 3
   },
   "file_extension": ".py",
   "mimetype": "text/x-python",
   "name": "python",
   "nbconvert_exporter": "python",
   "pygments_lexer": "ipython3",
   "version": "3.6.14"
  }
 },
 "nbformat": 4,
 "nbformat_minor": 5
}
