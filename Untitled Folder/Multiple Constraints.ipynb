{
 "cells": [
  {
   "cell_type": "code",
   "execution_count": 1,
   "id": "fbdf85d3",
   "metadata": {},
   "outputs": [],
   "source": [
    "import numpy as np\n",
    "import cvxpy as cp"
   ]
  },
  {
   "cell_type": "code",
   "execution_count": 54,
   "id": "eda7417b",
   "metadata": {},
   "outputs": [
    {
     "data": {
      "text/plain": [
       "array([0.8])"
      ]
     },
     "execution_count": 54,
     "metadata": {},
     "output_type": "execute_result"
    }
   ],
   "source": [
    "u = cp.Variable(1)\n",
    "a = cp.Parameter(value=0.4)\n",
    "b = cp.Parameter(value=1)\n",
    "\n",
    "x = np.array([0.5])\n",
    "# x >= 0 + t = u\n",
    "# x <= 1 + 0.3*t only valid till t = 1/0.7. But for some time horizon, it should be possible to keep the constraints\n",
    "\n",
    "xdot = u\n",
    "\n",
    "t = 0\n",
    "\n",
    "#h1\n",
    "h1 = x - t\n",
    "h1_dot = xdot - 1\n",
    "\n",
    "#h2\n",
    "h2 = 1 + 0.3*t - x\n",
    "h2_dot = 0.3 - xdot\n",
    "\n",
    "const = [h1_dot >= -a*h1]\n",
    "const += [h2_dot >= -b*h2]\n",
    "\n",
    "objective = cp.Maximize(u)\n",
    "\n",
    "problem = cp.Problem(objective,const)\n",
    "problem.solve(verbose=False)\n",
    "\n",
    "u.value\n"
   ]
  },
  {
   "cell_type": "code",
   "execution_count": 39,
   "id": "a81337f7",
   "metadata": {},
   "outputs": [
    {
     "data": {
      "text/plain": [
       "array([-0.7])"
      ]
     },
     "execution_count": 39,
     "metadata": {},
     "output_type": "execute_result"
    }
   ],
   "source": [
    "h1_dot.value + a.value*h1"
   ]
  },
  {
   "cell_type": "code",
   "execution_count": 33,
   "id": "a32be815",
   "metadata": {},
   "outputs": [
    {
     "data": {
      "text/plain": [
       "array([2.64024691e-10])"
      ]
     },
     "execution_count": 33,
     "metadata": {},
     "output_type": "execute_result"
    }
   ],
   "source": [
    "h2_dot.value"
   ]
  },
  {
   "cell_type": "code",
   "execution_count": 40,
   "id": "690283bf",
   "metadata": {},
   "outputs": [
    {
     "data": {
      "text/plain": [
       "array([0.3])"
      ]
     },
     "execution_count": 40,
     "metadata": {},
     "output_type": "execute_result"
    }
   ],
   "source": [
    "u.value"
   ]
  },
  {
   "cell_type": "code",
   "execution_count": null,
   "id": "03ddefbf",
   "metadata": {},
   "outputs": [],
   "source": []
  },
  {
   "cell_type": "code",
   "execution_count": null,
   "id": "2b65e927",
   "metadata": {},
   "outputs": [],
   "source": []
  },
  {
   "cell_type": "code",
   "execution_count": null,
   "id": "7980950f",
   "metadata": {},
   "outputs": [],
   "source": []
  },
  {
   "cell_type": "code",
   "execution_count": null,
   "id": "f0f4b153",
   "metadata": {},
   "outputs": [],
   "source": []
  },
  {
   "cell_type": "code",
   "execution_count": null,
   "id": "20886b95",
   "metadata": {},
   "outputs": [],
   "source": []
  }
 ],
 "metadata": {
  "kernelspec": {
   "display_name": "Python 3 (ipykernel)",
   "language": "python",
   "name": "python3"
  },
  "language_info": {
   "codemirror_mode": {
    "name": "ipython",
    "version": 3
   },
   "file_extension": ".py",
   "mimetype": "text/x-python",
   "name": "python",
   "nbconvert_exporter": "python",
   "pygments_lexer": "ipython3",
   "version": "3.8.10"
  }
 },
 "nbformat": 4,
 "nbformat_minor": 5
}
