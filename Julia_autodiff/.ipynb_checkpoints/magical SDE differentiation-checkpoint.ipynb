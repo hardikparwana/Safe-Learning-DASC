{
 "cells": [
  {
   "cell_type": "code",
   "execution_count": 8,
   "id": "885ca002",
   "metadata": {},
   "outputs": [],
   "source": [
    "using ForwardDiff\n",
    "using DifferentialEquations\n",
    "using Plots"
   ]
  },
  {
   "cell_type": "code",
   "execution_count": 9,
   "id": "a124bf74",
   "metadata": {},
   "outputs": [
    {
     "data": {
      "text/plain": [
       "f (generic function with 1 method)"
      ]
     },
     "execution_count": 9,
     "metadata": {},
     "output_type": "execute_result"
    }
   ],
   "source": [
    "function f(x,u)\n",
    "    return x + u\n",
    "end"
   ]
  },
  {
   "cell_type": "code",
   "execution_count": 10,
   "id": "c9489029",
   "metadata": {},
   "outputs": [
    {
     "data": {
      "text/plain": [
       "g (generic function with 1 method)"
      ]
     },
     "execution_count": 10,
     "metadata": {},
     "output_type": "execute_result"
    }
   ],
   "source": [
    "function g(x)\n",
    "    return 0.1\n",
    "end"
   ]
  },
  {
   "cell_type": "code",
   "execution_count": 11,
   "id": "129f813e",
   "metadata": {},
   "outputs": [
    {
     "data": {
      "text/plain": [
       "control (generic function with 1 method)"
      ]
     },
     "execution_count": 11,
     "metadata": {},
     "output_type": "execute_result"
    }
   ],
   "source": [
    "function control(x,k)\n",
    "    return -k * x\n",
    "end"
   ]
  },
  {
   "cell_type": "code",
   "execution_count": 12,
   "id": "291a4702",
   "metadata": {},
   "outputs": [
    {
     "data": {
      "text/plain": [
       "closedLoop (generic function with 1 method)"
      ]
     },
     "execution_count": 12,
     "metadata": {},
     "output_type": "execute_result"
    }
   ],
   "source": [
    "function closedLoop(x, k)\n",
    "    return f(x, control(x,k))\n",
    "end"
   ]
  },
  {
   "cell_type": "code",
   "execution_count": null,
   "id": "baa7dc03",
   "metadata": {},
   "outputs": [],
   "source": []
  }
 ],
 "metadata": {
  "kernelspec": {
   "display_name": "Julia 1.6.2",
   "language": "julia",
   "name": "julia-1.6"
  },
  "language_info": {
   "file_extension": ".jl",
   "mimetype": "application/julia",
   "name": "julia",
   "version": "1.6.2"
  }
 },
 "nbformat": 4,
 "nbformat_minor": 5
}
