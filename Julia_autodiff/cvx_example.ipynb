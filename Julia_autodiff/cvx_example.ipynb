{
 "cells": [
  {
   "cell_type": "code",
   "execution_count": 9,
   "id": "01ed75e5",
   "metadata": {},
   "outputs": [],
   "source": [
    "using Convex, SCS"
   ]
  },
  {
   "cell_type": "code",
   "execution_count": 16,
   "id": "1fce7d8f",
   "metadata": {},
   "outputs": [],
   "source": [
    "using ForwardDiff"
   ]
  },
  {
   "cell_type": "code",
   "execution_count": null,
   "id": "84d6866b",
   "metadata": {},
   "outputs": [],
   "source": []
  },
  {
   "cell_type": "code",
   "execution_count": null,
   "id": "8e780d9a",
   "metadata": {},
   "outputs": [],
   "source": []
  },
  {
   "cell_type": "code",
   "execution_count": 31,
   "id": "427be2b2",
   "metadata": {},
   "outputs": [
    {
     "data": {
      "text/plain": [
       "sol (generic function with 2 methods)"
      ]
     },
     "execution_count": 31,
     "metadata": {},
     "output_type": "execute_result"
    }
   ],
   "source": [
    "function sol(a, c)\n",
    "    \n",
    "    x = Variable()\n",
    "    \n",
    "    cons = [x <= c]\n",
    "    \n",
    "    prob = minimize(0.5 * square(x-a), cons)\n",
    "    \n",
    "    solve!(prob, () -> SCS.Optimizer(verbose=false))\n",
    "    \n",
    "#     @show prob\n",
    "    \n",
    "    return x.value\n",
    "end"
   ]
  },
  {
   "cell_type": "code",
   "execution_count": 39,
   "id": "712f0d65",
   "metadata": {},
   "outputs": [
    {
     "data": {
      "text/plain": [
       "-2.000000000078788"
      ]
     },
     "execution_count": 39,
     "metadata": {},
     "output_type": "execute_result"
    }
   ],
   "source": [
    "sol(0.5, -2.0)"
   ]
  },
  {
   "cell_type": "code",
   "execution_count": 40,
   "id": "fc12fe72",
   "metadata": {},
   "outputs": [
    {
     "data": {
      "text/plain": [
       "sola (generic function with 1 method)"
      ]
     },
     "execution_count": 40,
     "metadata": {},
     "output_type": "execute_result"
    }
   ],
   "source": [
    "# sol(v) = sol(v[1], v[2])\n",
    "\n",
    "sola(a) = sol(a, -2.0)"
   ]
  },
  {
   "cell_type": "code",
   "execution_count": 41,
   "id": "5a6e3136",
   "metadata": {},
   "outputs": [
    {
     "data": {
      "text/plain": [
       "-2.000000000078788"
      ]
     },
     "execution_count": 41,
     "metadata": {},
     "output_type": "execute_result"
    }
   ],
   "source": [
    "sola(0.5)"
   ]
  },
  {
   "cell_type": "code",
   "execution_count": 42,
   "id": "06017874",
   "metadata": {},
   "outputs": [
    {
     "ename": "LoadError",
     "evalue": "MethodError: no method matching Float64(::ForwardDiff.Dual{ForwardDiff.Tag{typeof(sola), Float64}, Float64, 1})\n\u001b[0mClosest candidates are:\n\u001b[0m  (::Type{T})(::Real, \u001b[91m::RoundingMode\u001b[39m) where T<:AbstractFloat at rounding.jl:200\n\u001b[0m  (::Type{T})(::T) where T<:Number at boot.jl:760\n\u001b[0m  (::Type{T})(\u001b[91m::AbstractChar\u001b[39m) where T<:Union{AbstractChar, Number} at char.jl:50\n\u001b[0m  ...",
     "output_type": "error",
     "traceback": [
      "MethodError: no method matching Float64(::ForwardDiff.Dual{ForwardDiff.Tag{typeof(sola), Float64}, Float64, 1})\n\u001b[0mClosest candidates are:\n\u001b[0m  (::Type{T})(::Real, \u001b[91m::RoundingMode\u001b[39m) where T<:AbstractFloat at rounding.jl:200\n\u001b[0m  (::Type{T})(::T) where T<:Number at boot.jl:760\n\u001b[0m  (::Type{T})(\u001b[91m::AbstractChar\u001b[39m) where T<:Union{AbstractChar, Number} at char.jl:50\n\u001b[0m  ...",
      "",
      "Stacktrace:",
      "  [1] convert(#unused#::Type{Float64}, x::ForwardDiff.Dual{ForwardDiff.Tag{typeof(sola), Float64}, Float64, 1})",
      "    @ Base ./number.jl:7",
      "  [2] setindex!(x::SparseArrays.SparseVector{Float64, Int64}, v::ForwardDiff.Dual{ForwardDiff.Tag{typeof(sola), Float64}, Float64, 1}, i::Int64)",
      "    @ SparseArrays /buildworker/worker/package_linux64/build/usr/share/julia/stdlib/v1.6/SparseArrays/src/sparsevector.jl:330",
      "  [3] make_MOI_constr(conic_constr::Convex.ConicConstr, var_to_indices::Dict{UInt64, Vector{MathOptInterface.VariableIndex}}, id_to_variables::OrderedCollections.OrderedDict{UInt64, Convex.AbstractVariable}, T::Type)",
      "    @ Convex ~/.julia/packages/Convex/UNspE/src/solution.jl:84",
      "  [4] load_MOI_model!(model::MathOptInterface.Bridges.LazyBridgeOptimizer{MathOptInterface.Utilities.CachingOptimizer{SCS.Optimizer, MathOptInterface.Utilities.UniversalFallback{MathOptInterface.Utilities.GenericModel{Float64, MathOptInterface.Utilities.ModelFunctionConstraints{Float64}}}}}, problem::Problem{Float64})",
      "    @ Convex ~/.julia/packages/Convex/UNspE/src/solution.jl:161",
      "  [5] solve!(problem::Problem{Float64}, optimizer::SCS.Optimizer; check_vexity::Bool, verbose::Bool, warmstart::Bool, silent_solver::Bool)",
      "    @ Convex ~/.julia/packages/Convex/UNspE/src/solution.jl:233",
      "  [6] solve!",
      "    @ ~/.julia/packages/Convex/UNspE/src/solution.jl:221 [inlined]",
      "  [7] #solve!#14",
      "    @ ~/.julia/packages/Convex/UNspE/src/solution.jl:192 [inlined]",
      "  [8] solve!",
      "    @ ~/.julia/packages/Convex/UNspE/src/solution.jl:191 [inlined]",
      "  [9] sol(a::ForwardDiff.Dual{ForwardDiff.Tag{typeof(sola), Float64}, Float64, 1}, c::Float64)",
      "    @ Main ./In[31]:9",
      " [10] sola",
      "    @ ./In[40]:3 [inlined]",
      " [11] derivative(f::typeof(sola), x::Float64)",
      "    @ ForwardDiff ~/.julia/packages/ForwardDiff/QOqCN/src/derivative.jl:14",
      " [12] top-level scope",
      "    @ In[42]:1",
      " [13] eval",
      "    @ ./boot.jl:360 [inlined]",
      " [14] include_string(mapexpr::typeof(REPL.softscope), mod::Module, code::String, filename::String)",
      "    @ Base ./loading.jl:1116"
     ]
    }
   ],
   "source": [
    "ForwardDiff.derivative(sola, 0.5)"
   ]
  },
  {
   "cell_type": "code",
   "execution_count": 19,
   "id": "dae145ca",
   "metadata": {},
   "outputs": [
    {
     "data": {
      "text/plain": [
       "da (generic function with 1 method)"
      ]
     },
     "execution_count": 19,
     "metadata": {},
     "output_type": "execute_result"
    }
   ],
   "source": [
    "da(a, c) = ForwardDiff.derivative(k -> sol(k, c) , a)"
   ]
  },
  {
   "cell_type": "code",
   "execution_count": 59,
   "id": "044854d5",
   "metadata": {},
   "outputs": [
    {
     "ename": "LoadError",
     "evalue": "MethodError: no method matching Float64(::ForwardDiff.Dual{ForwardDiff.Tag{var\"#7#8\"{Float64}, Float64}, Float64, 1})\n\u001b[0mClosest candidates are:\n\u001b[0m  (::Type{T})(::Real, \u001b[91m::RoundingMode\u001b[39m) where T<:AbstractFloat at rounding.jl:200\n\u001b[0m  (::Type{T})(::T) where T<:Number at boot.jl:760\n\u001b[0m  (::Type{T})(\u001b[91m::AbstractChar\u001b[39m) where T<:Union{AbstractChar, Number} at char.jl:50\n\u001b[0m  ...",
     "output_type": "error",
     "traceback": [
      "MethodError: no method matching Float64(::ForwardDiff.Dual{ForwardDiff.Tag{var\"#7#8\"{Float64}, Float64}, Float64, 1})\n\u001b[0mClosest candidates are:\n\u001b[0m  (::Type{T})(::Real, \u001b[91m::RoundingMode\u001b[39m) where T<:AbstractFloat at rounding.jl:200\n\u001b[0m  (::Type{T})(::T) where T<:Number at boot.jl:760\n\u001b[0m  (::Type{T})(\u001b[91m::AbstractChar\u001b[39m) where T<:Union{AbstractChar, Number} at char.jl:50\n\u001b[0m  ...",
      "",
      "Stacktrace:",
      "  [1] convert(#unused#::Type{Float64}, x::ForwardDiff.Dual{ForwardDiff.Tag{var\"#7#8\"{Float64}, Float64}, Float64, 1})",
      "    @ Base ./number.jl:7",
      "  [2] setindex!(x::SparseVector{Float64, Int64}, v::ForwardDiff.Dual{ForwardDiff.Tag{var\"#7#8\"{Float64}, Float64}, Float64, 1}, i::Int64)",
      "    @ SparseArrays /buildworker/worker/package_linux64/build/usr/share/julia/stdlib/v1.6/SparseArrays/src/sparsevector.jl:330",
      "  [3] make_MOI_constr(conic_constr::Convex.ConicConstr, var_to_indices::Dict{UInt64, Vector{MathOptInterface.VariableIndex}}, id_to_variables::OrderedCollections.OrderedDict{UInt64, Convex.AbstractVariable}, T::Type)",
      "    @ Convex ~/.julia/packages/Convex/UNspE/src/solution.jl:84",
      "  [4] load_MOI_model!(model::MathOptInterface.Bridges.LazyBridgeOptimizer{MathOptInterface.Utilities.CachingOptimizer{SCS.Optimizer, MathOptInterface.Utilities.UniversalFallback{MathOptInterface.Utilities.GenericModel{Float64, MathOptInterface.Utilities.ModelFunctionConstraints{Float64}}}}}, problem::Problem{Float64})",
      "    @ Convex ~/.julia/packages/Convex/UNspE/src/solution.jl:161",
      "  [5] solve!(problem::Problem{Float64}, optimizer::SCS.Optimizer; check_vexity::Bool, verbose::Bool, warmstart::Bool, silent_solver::Bool)",
      "    @ Convex ~/.julia/packages/Convex/UNspE/src/solution.jl:233",
      "  [6] solve!",
      "    @ ~/.julia/packages/Convex/UNspE/src/solution.jl:221 [inlined]",
      "  [7] #solve!#14",
      "    @ ~/.julia/packages/Convex/UNspE/src/solution.jl:192 [inlined]",
      "  [8] solve!",
      "    @ ~/.julia/packages/Convex/UNspE/src/solution.jl:191 [inlined]",
      "  [9] sol(a::ForwardDiff.Dual{ForwardDiff.Tag{var\"#7#8\"{Float64}, Float64}, Float64, 1}, c::Float64)",
      "    @ Main ./In[31]:9",
      " [10] #7",
      "    @ ./In[19]:1 [inlined]",
      " [11] derivative",
      "    @ ~/.julia/packages/ForwardDiff/QOqCN/src/derivative.jl:14 [inlined]",
      " [12] da(a::Float64, c::Float64)",
      "    @ Main ./In[19]:1",
      " [13] top-level scope",
      "    @ In[59]:1",
      " [14] eval",
      "    @ ./boot.jl:360 [inlined]",
      " [15] include_string(mapexpr::typeof(REPL.softscope), mod::Module, code::String, filename::String)",
      "    @ Base ./loading.jl:1116"
     ]
    }
   ],
   "source": [
    "da(0.5, -2.0);"
   ]
  },
  {
   "cell_type": "code",
   "execution_count": 48,
   "id": "dd290b57",
   "metadata": {},
   "outputs": [
    {
     "name": "stderr",
     "output_type": "stream",
     "text": [
      "\u001b[32m\u001b[1m   Resolving\u001b[22m\u001b[39m package versions...\n",
      "\u001b[32m\u001b[1m    Updating\u001b[22m\u001b[39m `~/Desktop/Research/Safe-Learning-DASC/Project.toml`\n",
      " \u001b[90m [34da2185] \u001b[39m\u001b[92m+ Compat v3.31.0\u001b[39m\n",
      "\u001b[32m\u001b[1m  No Changes\u001b[22m\u001b[39m to `~/Desktop/Research/Safe-Learning-DASC/Manifest.toml`\n"
     ]
    }
   ],
   "source": [
    "Pkg.add(\"Compat\")"
   ]
  },
  {
   "cell_type": "code",
   "execution_count": 57,
   "id": "55677345",
   "metadata": {},
   "outputs": [
    {
     "data": {
      "text/plain": [
       "osqp_solve (generic function with 1 method)"
      ]
     },
     "execution_count": 57,
     "metadata": {},
     "output_type": "execute_result"
    }
   ],
   "source": [
    "using OSQP\n",
    "using Compat.SparseArrays\n",
    "\n",
    "function osqp_solve(c)\n",
    "    # Define problem data\n",
    "    P = sparse([4. 1.; 1. 2.])\n",
    "    q = [1.; 1.]\n",
    "    A = sparse([1. 1.; 1. 0.; 0. 1.])\n",
    "    l = [c; 0.; 0.]\n",
    "    u = [1.; 0.7; 0.7]\n",
    "\n",
    "    # Crate OSQP object\n",
    "    prob = OSQP.Model()\n",
    "\n",
    "    # Setup workspace and change alpha parameter\n",
    "    OSQP.setup!(prob; P=P, q=q, A=A, l=l, u=u, alpha=1)\n",
    "\n",
    "    # Solve problem\n",
    "    results = OSQP.solve!(prob,verbose=false)\n",
    "    \n",
    "    return results.x[1]\n",
    "end"
   ]
  },
  {
   "cell_type": "code",
   "execution_count": 51,
   "id": "2bce40e0",
   "metadata": {},
   "outputs": [
    {
     "data": {
      "text/plain": [
       "0.300000191114193"
      ]
     },
     "execution_count": 51,
     "metadata": {},
     "output_type": "execute_result"
    }
   ],
   "source": [
    "results.x[1]"
   ]
  },
  {
   "cell_type": "code",
   "execution_count": 64,
   "id": "641c2ec3",
   "metadata": {},
   "outputs": [
    {
     "name": "stdout",
     "output_type": "stream",
     "text": [
      "-----------------------------------------------------------------\n",
      "           OSQP v0.6.2  -  Operator Splitting QP Solver\n",
      "              (c) Bartolomeo Stellato,  Goran Banjac\n",
      "        University of Oxford  -  Stanford University 2021\n",
      "-----------------------------------------------------------------\n",
      "problem:  variables n = 2, constraints m = 3\n",
      "          nnz(P) + nnz(A) = 7\n",
      "settings: linear system solver = qdldl,\n",
      "          eps_abs = 1.0e-03, eps_rel = 1.0e-03,\n",
      "          eps_prim_inf = 1.0e-04, eps_dual_inf = 1.0e-04,\n",
      "          rho = 1.00e-01 (adaptive),\n",
      "          sigma = 1.00e-06, alpha = 1.00, max_iter = 4000\n",
      "          check_termination: on (interval 25),\n",
      "          scaling: on, scaled_termination: off\n",
      "          warm start: on, polish: off, time_limit: off\n",
      "\n"
     ]
    },
    {
     "ename": "LoadError",
     "evalue": "MethodError: no method matching solve!(::OSQP.Model; verbose=false)\n\u001b[0mClosest candidates are:\n\u001b[0m  solve!(::OSQP.Model) at /home/hardik/.julia/packages/OSQP/B1LbK/src/interface.jl:172\u001b[91m got unsupported keyword argument \"verbose\"\u001b[39m\n\u001b[0m  solve!(::OSQP.Model, \u001b[91m::OSQP.Results\u001b[39m) at /home/hardik/.julia/packages/OSQP/B1LbK/src/interface.jl:172\u001b[91m got unsupported keyword argument \"verbose\"\u001b[39m",
     "output_type": "error",
     "traceback": [
      "MethodError: no method matching solve!(::OSQP.Model; verbose=false)\n\u001b[0mClosest candidates are:\n\u001b[0m  solve!(::OSQP.Model) at /home/hardik/.julia/packages/OSQP/B1LbK/src/interface.jl:172\u001b[91m got unsupported keyword argument \"verbose\"\u001b[39m\n\u001b[0m  solve!(::OSQP.Model, \u001b[91m::OSQP.Results\u001b[39m) at /home/hardik/.julia/packages/OSQP/B1LbK/src/interface.jl:172\u001b[91m got unsupported keyword argument \"verbose\"\u001b[39m",
      "",
      "Stacktrace:",
      " [1] osqp_solve(c::Float64)",
      "   @ Main ./In[57]:19",
      " [2] top-level scope",
      "   @ In[64]:1",
      " [3] eval",
      "   @ ./boot.jl:360 [inlined]",
      " [4] include_string(mapexpr::typeof(REPL.softscope), mod::Module, code::String, filename::String)",
      "   @ Base ./loading.jl:1116"
     ]
    }
   ],
   "source": [
    "osqp_solve(1.0)"
   ]
  },
  {
   "cell_type": "code",
   "execution_count": 62,
   "id": "a8e0baa0",
   "metadata": {},
   "outputs": [
    {
     "ename": "LoadError",
     "evalue": "TypeError: in keyword argument l, expected Union{Nothing, Vector{Float64}}, got a value of type Vector{ForwardDiff.Dual{ForwardDiff.Tag{typeof(osqp_solve), Float64}, Float64, 1}}",
     "output_type": "error",
     "traceback": [
      "TypeError: in keyword argument l, expected Union{Nothing, Vector{Float64}}, got a value of type Vector{ForwardDiff.Dual{ForwardDiff.Tag{typeof(osqp_solve), Float64}, Float64, 1}}",
      "",
      "Stacktrace:",
      " [1] osqp_solve(c::ForwardDiff.Dual{ForwardDiff.Tag{typeof(osqp_solve), Float64}, Float64, 1})",
      "   @ Main ./In[57]:16",
      " [2] derivative(f::typeof(osqp_solve), x::Float64)",
      "   @ ForwardDiff ~/.julia/packages/ForwardDiff/QOqCN/src/derivative.jl:14",
      " [3] top-level scope",
      "   @ In[62]:1",
      " [4] eval",
      "   @ ./boot.jl:360 [inlined]",
      " [5] include_string(mapexpr::typeof(REPL.softscope), mod::Module, code::String, filename::String)",
      "   @ Base ./loading.jl:1116"
     ]
    }
   ],
   "source": [
    "ForwardDiff.derivative(osqp_solve, 0.5)"
   ]
  },
  {
   "cell_type": "code",
   "execution_count": null,
   "id": "15787536",
   "metadata": {},
   "outputs": [],
   "source": []
  }
 ],
 "metadata": {
  "kernelspec": {
   "display_name": "Julia 1.6.2",
   "language": "julia",
   "name": "julia-1.6"
  },
  "language_info": {
   "file_extension": ".jl",
   "mimetype": "application/julia",
   "name": "julia",
   "version": "1.6.2"
  }
 },
 "nbformat": 4,
 "nbformat_minor": 5
}
